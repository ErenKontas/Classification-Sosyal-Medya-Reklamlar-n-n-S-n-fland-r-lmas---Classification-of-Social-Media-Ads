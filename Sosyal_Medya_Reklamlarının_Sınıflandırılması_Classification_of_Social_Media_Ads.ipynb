{
 "cells": [
  {
   "cell_type": "markdown",
   "id": "9a6460f5",
   "metadata": {
    "id": "48407da4-8244-4162-a72d-b9fdd04ae3d4"
   },
   "source": [
    "# <font color=#025dfa> Sosyal Medya Reklamlarının Sınıflandırılması - Classification of Social Media Ads"
   ]
  },
  {
   "cell_type": "markdown",
   "id": "462a6cff",
   "metadata": {
    "id": "9792c2dd-4d03-4738-a622-40507257bff1"
   },
   "source": [
    "TR = Her yorum satırı kendisini üstündeki koda aittir. İlk olarak Türkçe, son olarak İngilizce yazıldı.\n",
    "\n",
    "EN = Each comment line belongs to the code above it. It was first written in Turkish and lastly in English.\n",
    "\n",
    "Kaynak/Source = https://thecleverprogrammer.com/2021/06/15/social-media-ads-classification-with-machine-learning/"
   ]
  },
  {
   "cell_type": "code",
   "execution_count": 14,
   "id": "73cdf988",
   "metadata": {
    "execution": {
     "iopub.execute_input": "2024-08-15T09:51:45.112357Z",
     "iopub.status.busy": "2024-08-15T09:51:45.111708Z",
     "iopub.status.idle": "2024-08-15T09:51:45.117872Z",
     "shell.execute_reply": "2024-08-15T09:51:45.116602Z",
     "shell.execute_reply.started": "2024-08-15T09:51:45.112308Z"
    },
    "id": "b1a57fed-e3bc-4ec4-ad4d-5931ed5706db"
   },
   "outputs": [],
   "source": [
    "#pip install pycaret"
   ]
  },
  {
   "cell_type": "code",
   "execution_count": 15,
   "id": "f0724eb7",
   "metadata": {
    "execution": {
     "iopub.execute_input": "2024-08-15T09:51:45.121424Z",
     "iopub.status.busy": "2024-08-15T09:51:45.120425Z",
     "iopub.status.idle": "2024-08-15T09:51:45.132940Z",
     "shell.execute_reply": "2024-08-15T09:51:45.131744Z",
     "shell.execute_reply.started": "2024-08-15T09:51:45.121382Z"
    },
    "id": "98f8e4eb-7913-4edb-9393-ea64c5d395fc"
   },
   "outputs": [],
   "source": [
    "import pandas as pd\n",
    "import seaborn as sns\n",
    "import matplotlib.pyplot as plt\n",
    "import numpy as np\n",
    "import nltk\n",
    "import warnings\n",
    "warnings.filterwarnings('ignore')\n",
    "import re\n",
    "\n",
    "from tensorflow.keras.models import Sequential\n",
    "from tensorflow.keras.layers import Conv2D, MaxPooling2D, Flatten, Dense, Dropout, BatchNormalization\n",
    "from sklearn.preprocessing import normalize, scale\n",
    "from sklearn.model_selection import train_test_split\n",
    "from sklearn.metrics import accuracy_score, confusion_matrix, classification_report\n",
    "from pycaret.classification import*"
   ]
  },
  {
   "cell_type": "code",
   "execution_count": 16,
   "id": "9efad0b4",
   "metadata": {
    "execution": {
     "iopub.execute_input": "2024-08-15T09:51:45.134507Z",
     "iopub.status.busy": "2024-08-15T09:51:45.134140Z",
     "iopub.status.idle": "2024-08-15T09:51:45.148062Z",
     "shell.execute_reply": "2024-08-15T09:51:45.146926Z",
     "shell.execute_reply.started": "2024-08-15T09:51:45.134480Z"
    },
    "id": "3b22b9fe-0e24-47f2-b2f3-b94b476ecd19"
   },
   "outputs": [],
   "source": [
    "pd.set_option(\"display.max_columns\",None)\n",
    "# TR = En fazla kaç sütun olduğunu gösteriyor.\n",
    "# EN = It shows the maximum number of columns."
   ]
  },
  {
   "cell_type": "code",
   "execution_count": 17,
   "id": "8ec8fb03",
   "metadata": {
    "execution": {
     "iopub.execute_input": "2024-08-15T09:51:45.150087Z",
     "iopub.status.busy": "2024-08-15T09:51:45.149377Z",
     "iopub.status.idle": "2024-08-15T09:51:45.305975Z",
     "shell.execute_reply": "2024-08-15T09:51:45.304983Z",
     "shell.execute_reply.started": "2024-08-15T09:51:45.150050Z"
    },
    "id": "fd6c9154-9821-454c-9b74-9a97e6b83b0a"
   },
   "outputs": [],
   "source": [
    "df=pd.read_csv('https://raw.githubusercontent.com/amankharwal/Website-data/master/social.csv')"
   ]
  },
  {
   "cell_type": "code",
   "execution_count": 18,
   "id": "26424fe1",
   "metadata": {
    "colab": {
     "base_uri": "https://localhost:8080/",
     "height": 206
    },
    "execution": {
     "iopub.execute_input": "2024-08-15T09:51:45.308843Z",
     "iopub.status.busy": "2024-08-15T09:51:45.308511Z",
     "iopub.status.idle": "2024-08-15T09:51:45.319989Z",
     "shell.execute_reply": "2024-08-15T09:51:45.318678Z",
     "shell.execute_reply.started": "2024-08-15T09:51:45.308814Z"
    },
    "id": "2f0ebc90-9de8-4b17-bcbe-30b08e302f81",
    "outputId": "20361f09-0c9e-4736-b580-3d90e7b9d1da"
   },
   "outputs": [
    {
     "data": {
      "text/html": [
       "<div>\n",
       "<style scoped>\n",
       "    .dataframe tbody tr th:only-of-type {\n",
       "        vertical-align: middle;\n",
       "    }\n",
       "\n",
       "    .dataframe tbody tr th {\n",
       "        vertical-align: top;\n",
       "    }\n",
       "\n",
       "    .dataframe thead th {\n",
       "        text-align: right;\n",
       "    }\n",
       "</style>\n",
       "<table border=\"1\" class=\"dataframe\">\n",
       "  <thead>\n",
       "    <tr style=\"text-align: right;\">\n",
       "      <th></th>\n",
       "      <th>Age</th>\n",
       "      <th>EstimatedSalary</th>\n",
       "      <th>Purchased</th>\n",
       "    </tr>\n",
       "  </thead>\n",
       "  <tbody>\n",
       "    <tr>\n",
       "      <th>0</th>\n",
       "      <td>19</td>\n",
       "      <td>19000</td>\n",
       "      <td>0</td>\n",
       "    </tr>\n",
       "    <tr>\n",
       "      <th>1</th>\n",
       "      <td>35</td>\n",
       "      <td>20000</td>\n",
       "      <td>0</td>\n",
       "    </tr>\n",
       "    <tr>\n",
       "      <th>2</th>\n",
       "      <td>26</td>\n",
       "      <td>43000</td>\n",
       "      <td>0</td>\n",
       "    </tr>\n",
       "    <tr>\n",
       "      <th>3</th>\n",
       "      <td>27</td>\n",
       "      <td>57000</td>\n",
       "      <td>0</td>\n",
       "    </tr>\n",
       "    <tr>\n",
       "      <th>4</th>\n",
       "      <td>19</td>\n",
       "      <td>76000</td>\n",
       "      <td>0</td>\n",
       "    </tr>\n",
       "  </tbody>\n",
       "</table>\n",
       "</div>"
      ],
      "text/plain": [
       "   Age  EstimatedSalary  Purchased\n",
       "0   19            19000          0\n",
       "1   35            20000          0\n",
       "2   26            43000          0\n",
       "3   27            57000          0\n",
       "4   19            76000          0"
      ]
     },
     "execution_count": 18,
     "metadata": {},
     "output_type": "execute_result"
    }
   ],
   "source": [
    "df.head()"
   ]
  },
  {
   "cell_type": "code",
   "execution_count": 19,
   "id": "9e14c415",
   "metadata": {
    "colab": {
     "base_uri": "https://localhost:8080/",
     "height": 489
    },
    "execution": {
     "iopub.execute_input": "2024-08-15T09:51:45.322549Z",
     "iopub.status.busy": "2024-08-15T09:51:45.321930Z",
     "iopub.status.idle": "2024-08-15T09:51:45.661681Z",
     "shell.execute_reply": "2024-08-15T09:51:45.660514Z",
     "shell.execute_reply.started": "2024-08-15T09:51:45.322512Z"
    },
    "id": "24e23fee-cb34-4b19-8013-15e66dbfa68b",
    "outputId": "a4398317-cab5-43b1-b534-abd9fbbeeeaf"
   },
   "outputs": [
    {
     "data": {
      "image/png": "[encoded data removed]",
      "text/plain": [
       "<Figure size 800x550 with 2 Axes>"
      ]
     },
     "metadata": {},
     "output_type": "display_data"
    }
   ],
   "source": [
    "sns.heatmap(df.corr(numeric_only=True),annot=True,cmap='Blues');"
   ]
  },
  {
   "cell_type": "code",
   "execution_count": 20,
   "id": "35b34277",
   "metadata": {
    "colab": {
     "base_uri": "https://localhost:8080/",
     "height": 178
    },
    "execution": {
     "iopub.execute_input": "2024-08-15T09:51:45.663960Z",
     "iopub.status.busy": "2024-08-15T09:51:45.663500Z",
     "iopub.status.idle": "2024-08-15T09:51:45.673213Z",
     "shell.execute_reply": "2024-08-15T09:51:45.672083Z",
     "shell.execute_reply.started": "2024-08-15T09:51:45.663920Z"
    },
    "id": "38072869-214e-44ea-ad41-08972edb72b9",
    "outputId": "39597a86-74e8-4b4f-b66c-aeab90afdd13"
   },
   "outputs": [
    {
     "data": {
      "text/plain": [
       "Purchased          1.000000\n",
       "Age                0.622454\n",
       "EstimatedSalary    0.362083\n",
       "Name: Purchased, dtype: float64"
      ]
     },
     "execution_count": 20,
     "metadata": {},
     "output_type": "execute_result"
    }
   ],
   "source": [
    "abs(df.corr(numeric_only=True)['Purchased']).sort_values(ascending=False)"
   ]
  },
  {
   "cell_type": "code",
   "execution_count": 21,
   "id": "2c3d1830",
   "metadata": {
    "colab": {
     "base_uri": "https://localhost:8080/",
     "height": 662
    },
    "execution": {
     "iopub.execute_input": "2024-08-15T09:51:45.675000Z",
     "iopub.status.busy": "2024-08-15T09:51:45.674650Z",
     "iopub.status.idle": "2024-08-15T09:51:46.557632Z",
     "shell.execute_reply": "2024-08-15T09:51:46.556538Z",
     "shell.execute_reply.started": "2024-08-15T09:51:45.674972Z"
    },
    "id": "b0a0089b-0db9-49db-8b58-a1f50313c58c",
    "outputId": "1e89a07d-498f-4fea-e91d-6e10413c2173"
   },
   "outputs": [
    {
     "data": {
      "text/html": [
       "<style type=\"text/css\">\n",
       "#T_3de7a_row8_col1 {\n",
       "  background-color: lightgreen;\n",
       "}\n",
       "</style>\n",
       "<table id=\"T_3de7a\">\n",
       "  <thead>\n",
       "    <tr>\n",
       "      <th class=\"blank level0\" >&nbsp;</th>\n",
       "      <th id=\"T_3de7a_level0_col0\" class=\"col_heading level0 col0\" >Description</th>\n",
       "      <th id=\"T_3de7a_level0_col1\" class=\"col_heading level0 col1\" >Value</th>\n",
       "    </tr>\n",
       "  </thead>\n",
       "  <tbody>\n",
       "    <tr>\n",
       "      <th id=\"T_3de7a_level0_row0\" class=\"row_heading level0 row0\" >0</th>\n",
       "      <td id=\"T_3de7a_row0_col0\" class=\"data row0 col0\" >Session id</td>\n",
       "      <td id=\"T_3de7a_row0_col1\" class=\"data row0 col1\" >3476</td>\n",
       "    </tr>\n",
       "    <tr>\n",
       "      <th id=\"T_3de7a_level0_row1\" class=\"row_heading level0 row1\" >1</th>\n",
       "      <td id=\"T_3de7a_row1_col0\" class=\"data row1 col0\" >Target</td>\n",
       "      <td id=\"T_3de7a_row1_col1\" class=\"data row1 col1\" >Purchased</td>\n",
       "    </tr>\n",
       "    <tr>\n",
       "      <th id=\"T_3de7a_level0_row2\" class=\"row_heading level0 row2\" >2</th>\n",
       "      <td id=\"T_3de7a_row2_col0\" class=\"data row2 col0\" >Target type</td>\n",
       "      <td id=\"T_3de7a_row2_col1\" class=\"data row2 col1\" >Binary</td>\n",
       "    </tr>\n",
       "    <tr>\n",
       "      <th id=\"T_3de7a_level0_row3\" class=\"row_heading level0 row3\" >3</th>\n",
       "      <td id=\"T_3de7a_row3_col0\" class=\"data row3 col0\" >Original data shape</td>\n",
       "      <td id=\"T_3de7a_row3_col1\" class=\"data row3 col1\" >(400, 3)</td>\n",
       "    </tr>\n",
       "    <tr>\n",
       "      <th id=\"T_3de7a_level0_row4\" class=\"row_heading level0 row4\" >4</th>\n",
       "      <td id=\"T_3de7a_row4_col0\" class=\"data row4 col0\" >Transformed data shape</td>\n",
       "      <td id=\"T_3de7a_row4_col1\" class=\"data row4 col1\" >(400, 3)</td>\n",
       "    </tr>\n",
       "    <tr>\n",
       "      <th id=\"T_3de7a_level0_row5\" class=\"row_heading level0 row5\" >5</th>\n",
       "      <td id=\"T_3de7a_row5_col0\" class=\"data row5 col0\" >Transformed train set shape</td>\n",
       "      <td id=\"T_3de7a_row5_col1\" class=\"data row5 col1\" >(280, 3)</td>\n",
       "    </tr>\n",
       "    <tr>\n",
       "      <th id=\"T_3de7a_level0_row6\" class=\"row_heading level0 row6\" >6</th>\n",
       "      <td id=\"T_3de7a_row6_col0\" class=\"data row6 col0\" >Transformed test set shape</td>\n",
       "      <td id=\"T_3de7a_row6_col1\" class=\"data row6 col1\" >(120, 3)</td>\n",
       "    </tr>\n",
       "    <tr>\n",
       "      <th id=\"T_3de7a_level0_row7\" class=\"row_heading level0 row7\" >7</th>\n",
       "      <td id=\"T_3de7a_row7_col0\" class=\"data row7 col0\" >Numeric features</td>\n",
       "      <td id=\"T_3de7a_row7_col1\" class=\"data row7 col1\" >2</td>\n",
       "    </tr>\n",
       "    <tr>\n",
       "      <th id=\"T_3de7a_level0_row8\" class=\"row_heading level0 row8\" >8</th>\n",
       "      <td id=\"T_3de7a_row8_col0\" class=\"data row8 col0\" >Preprocess</td>\n",
       "      <td id=\"T_3de7a_row8_col1\" class=\"data row8 col1\" >True</td>\n",
       "    </tr>\n",
       "    <tr>\n",
       "      <th id=\"T_3de7a_level0_row9\" class=\"row_heading level0 row9\" >9</th>\n",
       "      <td id=\"T_3de7a_row9_col0\" class=\"data row9 col0\" >Imputation type</td>\n",
       "      <td id=\"T_3de7a_row9_col1\" class=\"data row9 col1\" >simple</td>\n",
       "    </tr>\n",
       "    <tr>\n",
       "      <th id=\"T_3de7a_level0_row10\" class=\"row_heading level0 row10\" >10</th>\n",
       "      <td id=\"T_3de7a_row10_col0\" class=\"data row10 col0\" >Numeric imputation</td>\n",
       "      <td id=\"T_3de7a_row10_col1\" class=\"data row10 col1\" >mean</td>\n",
       "    </tr>\n",
       "    <tr>\n",
       "      <th id=\"T_3de7a_level0_row11\" class=\"row_heading level0 row11\" >11</th>\n",
       "      <td id=\"T_3de7a_row11_col0\" class=\"data row11 col0\" >Categorical imputation</td>\n",
       "      <td id=\"T_3de7a_row11_col1\" class=\"data row11 col1\" >mode</td>\n",
       "    </tr>\n",
       "    <tr>\n",
       "      <th id=\"T_3de7a_level0_row12\" class=\"row_heading level0 row12\" >12</th>\n",
       "      <td id=\"T_3de7a_row12_col0\" class=\"data row12 col0\" >Fold Generator</td>\n",
       "      <td id=\"T_3de7a_row12_col1\" class=\"data row12 col1\" >StratifiedKFold</td>\n",
       "    </tr>\n",
       "    <tr>\n",
       "      <th id=\"T_3de7a_level0_row13\" class=\"row_heading level0 row13\" >13</th>\n",
       "      <td id=\"T_3de7a_row13_col0\" class=\"data row13 col0\" >Fold Number</td>\n",
       "      <td id=\"T_3de7a_row13_col1\" class=\"data row13 col1\" >10</td>\n",
       "    </tr>\n",
       "    <tr>\n",
       "      <th id=\"T_3de7a_level0_row14\" class=\"row_heading level0 row14\" >14</th>\n",
       "      <td id=\"T_3de7a_row14_col0\" class=\"data row14 col0\" >CPU Jobs</td>\n",
       "      <td id=\"T_3de7a_row14_col1\" class=\"data row14 col1\" >-1</td>\n",
       "    </tr>\n",
       "    <tr>\n",
       "      <th id=\"T_3de7a_level0_row15\" class=\"row_heading level0 row15\" >15</th>\n",
       "      <td id=\"T_3de7a_row15_col0\" class=\"data row15 col0\" >Use GPU</td>\n",
       "      <td id=\"T_3de7a_row15_col1\" class=\"data row15 col1\" >False</td>\n",
       "    </tr>\n",
       "    <tr>\n",
       "      <th id=\"T_3de7a_level0_row16\" class=\"row_heading level0 row16\" >16</th>\n",
       "      <td id=\"T_3de7a_row16_col0\" class=\"data row16 col0\" >Log Experiment</td>\n",
       "      <td id=\"T_3de7a_row16_col1\" class=\"data row16 col1\" >False</td>\n",
       "    </tr>\n",
       "    <tr>\n",
       "      <th id=\"T_3de7a_level0_row17\" class=\"row_heading level0 row17\" >17</th>\n",
       "      <td id=\"T_3de7a_row17_col0\" class=\"data row17 col0\" >Experiment Name</td>\n",
       "      <td id=\"T_3de7a_row17_col1\" class=\"data row17 col1\" >clf-default-name</td>\n",
       "    </tr>\n",
       "    <tr>\n",
       "      <th id=\"T_3de7a_level0_row18\" class=\"row_heading level0 row18\" >18</th>\n",
       "      <td id=\"T_3de7a_row18_col0\" class=\"data row18 col0\" >USI</td>\n",
       "      <td id=\"T_3de7a_row18_col1\" class=\"data row18 col1\" >5513</td>\n",
       "    </tr>\n",
       "  </tbody>\n",
       "</table>\n"
      ],
      "text/plain": [
       "<pandas.io.formats.style.Styler at 0x79125873e110>"
      ]
     },
     "metadata": {},
     "output_type": "display_data"
    },
    {
     "data": {
      "text/plain": [
       "<pycaret.classification.oop.ClassificationExperiment at 0x7912587cdc00>"
      ]
     },
     "execution_count": 21,
     "metadata": {},
     "output_type": "execute_result"
    }
   ],
   "source": [
    "setup(df,target='Purchased')"
   ]
  },
  {
   "cell_type": "code",
   "execution_count": 22,
   "id": "66244152",
   "metadata": {
    "colab": {
     "base_uri": "https://localhost:8080/",
     "height": 519,
     "referenced_widgets": [
      "0b058d02c3cb4183b222dc2ef043664c",
      "371a73c112a8407eb1ba293be80f4dff",
      "0223239234e04f02a10f3a66a593f2f9",
      "d451da093ef54e7e8c8876e5faa68d91",
      "396b0ba380f642ffa39092d8c89d55a1",
      "8f32fbbf59ae4bbd90e15afdedbb93d8",
      "3c3acec9ad8543ca81d102f7c9e13f23",
      "1c447ad809d64ff7b9baabf7af649ec5",
      "4e5f48a0cac7434c9fd51403e4bf47ea",
      "8a458e9fd1dc4265bb44453c79752e95",
      "7833a8bb0542433381ad87755d87e1b1"
     ]
    },
    "execution": {
     "iopub.execute_input": "2024-08-15T09:51:46.559176Z",
     "iopub.status.busy": "2024-08-15T09:51:46.558857Z",
     "iopub.status.idle": "2024-08-15T09:52:14.650410Z",
     "shell.execute_reply": "2024-08-15T09:52:14.649256Z",
     "shell.execute_reply.started": "2024-08-15T09:51:46.559146Z"
    },
    "id": "bde56d91-468a-4e9c-9328-e5e5ad691179",
    "outputId": "051149dc-9115-4c27-9d15-fc6ace98e3a3"
   },
   "outputs": [
    {
     "data": {
      "text/html": [],
      "text/plain": [
       "<IPython.core.display.HTML object>"
      ]
     },
     "metadata": {},
     "output_type": "display_data"
    },
    {
     "data": {
      "text/html": [
       "<style type=\"text/css\">\n",
       "#T_c0b14 th {\n",
       "  text-align: left;\n",
       "}\n",
       "#T_c0b14_row0_col0, #T_c0b14_row0_col3, #T_c0b14_row1_col0, #T_c0b14_row1_col1, #T_c0b14_row1_col2, #T_c0b14_row1_col4, #T_c0b14_row1_col5, #T_c0b14_row1_col6, #T_c0b14_row1_col7, #T_c0b14_row2_col0, #T_c0b14_row2_col1, #T_c0b14_row2_col2, #T_c0b14_row2_col3, #T_c0b14_row2_col4, #T_c0b14_row2_col5, #T_c0b14_row2_col6, #T_c0b14_row2_col7, #T_c0b14_row3_col0, #T_c0b14_row3_col1, #T_c0b14_row3_col2, #T_c0b14_row3_col3, #T_c0b14_row3_col4, #T_c0b14_row3_col5, #T_c0b14_row3_col6, #T_c0b14_row3_col7, #T_c0b14_row4_col0, #T_c0b14_row4_col1, #T_c0b14_row4_col2, #T_c0b14_row4_col3, #T_c0b14_row4_col4, #T_c0b14_row4_col5, #T_c0b14_row4_col6, #T_c0b14_row4_col7, #T_c0b14_row5_col0, #T_c0b14_row5_col1, #T_c0b14_row5_col2, #T_c0b14_row5_col3, #T_c0b14_row5_col4, #T_c0b14_row5_col5, #T_c0b14_row5_col6, #T_c0b14_row5_col7, #T_c0b14_row6_col0, #T_c0b14_row6_col1, #T_c0b14_row6_col2, #T_c0b14_row6_col3, #T_c0b14_row6_col4, #T_c0b14_row6_col5, #T_c0b14_row6_col6, #T_c0b14_row6_col7, #T_c0b14_row7_col0, #T_c0b14_row7_col1, #T_c0b14_row7_col2, #T_c0b14_row7_col3, #T_c0b14_row7_col4, #T_c0b14_row7_col5, #T_c0b14_row7_col6, #T_c0b14_row7_col7, #T_c0b14_row8_col0, #T_c0b14_row8_col1, #T_c0b14_row8_col2, #T_c0b14_row8_col3, #T_c0b14_row8_col4, #T_c0b14_row8_col5, #T_c0b14_row8_col6, #T_c0b14_row8_col7, #T_c0b14_row9_col0, #T_c0b14_row9_col1, #T_c0b14_row9_col2, #T_c0b14_row9_col3, #T_c0b14_row9_col4, #T_c0b14_row9_col5, #T_c0b14_row9_col6, #T_c0b14_row9_col7, #T_c0b14_row10_col0, #T_c0b14_row10_col1, #T_c0b14_row10_col2, #T_c0b14_row10_col3, #T_c0b14_row10_col4, #T_c0b14_row10_col5, #T_c0b14_row10_col6, #T_c0b14_row10_col7, #T_c0b14_row11_col0, #T_c0b14_row11_col1, #T_c0b14_row11_col2, #T_c0b14_row11_col3, #T_c0b14_row11_col4, #T_c0b14_row11_col5, #T_c0b14_row11_col6, #T_c0b14_row11_col7, #T_c0b14_row12_col0, #T_c0b14_row12_col1, #T_c0b14_row12_col2, #T_c0b14_row12_col3, #T_c0b14_row12_col4, #T_c0b14_row12_col5, #T_c0b14_row12_col6, #T_c0b14_row12_col7, #T_c0b14_row13_col0, #T_c0b14_row13_col1, #T_c0b14_row13_col2, #T_c0b14_row13_col3, #T_c0b14_row13_col4, #T_c0b14_row13_col5, #T_c0b14_row13_col6, #T_c0b14_row13_col7, #T_c0b14_row14_col0, #T_c0b14_row14_col1, #T_c0b14_row14_col2, #T_c0b14_row14_col3, #T_c0b14_row14_col4, #T_c0b14_row14_col5, #T_c0b14_row14_col6, #T_c0b14_row14_col7, #T_c0b14_row15_col0, #T_c0b14_row15_col1, #T_c0b14_row15_col2, #T_c0b14_row15_col3, #T_c0b14_row15_col4, #T_c0b14_row15_col5, #T_c0b14_row15_col6, #T_c0b14_row15_col7 {\n",
       "  text-align: left;\n",
       "}\n",
       "#T_c0b14_row0_col1, #T_c0b14_row0_col2, #T_c0b14_row0_col4, #T_c0b14_row0_col5, #T_c0b14_row0_col6, #T_c0b14_row0_col7, #T_c0b14_row1_col3 {\n",
       "  text-align: left;\n",
       "  background-color: yellow;\n",
       "}\n",
       "#T_c0b14_row0_col8, #T_c0b14_row1_col8, #T_c0b14_row2_col8, #T_c0b14_row3_col8, #T_c0b14_row4_col8, #T_c0b14_row5_col8, #T_c0b14_row6_col8, #T_c0b14_row7_col8, #T_c0b14_row8_col8, #T_c0b14_row9_col8, #T_c0b14_row10_col8, #T_c0b14_row11_col8, #T_c0b14_row12_col8, #T_c0b14_row13_col8, #T_c0b14_row15_col8 {\n",
       "  text-align: left;\n",
       "  background-color: lightgrey;\n",
       "}\n",
       "#T_c0b14_row14_col8 {\n",
       "  text-align: left;\n",
       "  background-color: yellow;\n",
       "  background-color: lightgrey;\n",
       "}\n",
       "</style>\n",
       "<table id=\"T_c0b14\">\n",
       "  <thead>\n",
       "    <tr>\n",
       "      <th class=\"blank level0\" >&nbsp;</th>\n",
       "      <th id=\"T_c0b14_level0_col0\" class=\"col_heading level0 col0\" >Model</th>\n",
       "      <th id=\"T_c0b14_level0_col1\" class=\"col_heading level0 col1\" >Accuracy</th>\n",
       "      <th id=\"T_c0b14_level0_col2\" class=\"col_heading level0 col2\" >AUC</th>\n",
       "      <th id=\"T_c0b14_level0_col3\" class=\"col_heading level0 col3\" >Recall</th>\n",
       "      <th id=\"T_c0b14_level0_col4\" class=\"col_heading level0 col4\" >Prec.</th>\n",
       "      <th id=\"T_c0b14_level0_col5\" class=\"col_heading level0 col5\" >F1</th>\n",
       "      <th id=\"T_c0b14_level0_col6\" class=\"col_heading level0 col6\" >Kappa</th>\n",
       "      <th id=\"T_c0b14_level0_col7\" class=\"col_heading level0 col7\" >MCC</th>\n",
       "      <th id=\"T_c0b14_level0_col8\" class=\"col_heading level0 col8\" >TT (Sec)</th>\n",
       "    </tr>\n",
       "  </thead>\n",
       "  <tbody>\n",
       "    <tr>\n",
       "      <th id=\"T_c0b14_level0_row0\" class=\"row_heading level0 row0\" >qda</th>\n",
       "      <td id=\"T_c0b14_row0_col0\" class=\"data row0 col0\" >Quadratic Discriminant Analysis</td>\n",
       "      <td id=\"T_c0b14_row0_col1\" class=\"data row0 col1\" >0.9143</td>\n",
       "      <td id=\"T_c0b14_row0_col2\" class=\"data row0 col2\" >0.9600</td>\n",
       "      <td id=\"T_c0b14_row0_col3\" class=\"data row0 col3\" >0.8900</td>\n",
       "      <td id=\"T_c0b14_row0_col4\" class=\"data row0 col4\" >0.8805</td>\n",
       "      <td id=\"T_c0b14_row0_col5\" class=\"data row0 col5\" >0.8777</td>\n",
       "      <td id=\"T_c0b14_row0_col6\" class=\"data row0 col6\" >0.8122</td>\n",
       "      <td id=\"T_c0b14_row0_col7\" class=\"data row0 col7\" >0.8203</td>\n",
       "      <td id=\"T_c0b14_row0_col8\" class=\"data row0 col8\" >0.0350</td>\n",
       "    </tr>\n",
       "    <tr>\n",
       "      <th id=\"T_c0b14_level0_row1\" class=\"row_heading level0 row1\" >catboost</th>\n",
       "      <td id=\"T_c0b14_row1_col0\" class=\"data row1 col0\" >CatBoost Classifier</td>\n",
       "      <td id=\"T_c0b14_row1_col1\" class=\"data row1 col1\" >0.9036</td>\n",
       "      <td id=\"T_c0b14_row1_col2\" class=\"data row1 col2\" >0.9522</td>\n",
       "      <td id=\"T_c0b14_row1_col3\" class=\"data row1 col3\" >0.9000</td>\n",
       "      <td id=\"T_c0b14_row1_col4\" class=\"data row1 col4\" >0.8517</td>\n",
       "      <td id=\"T_c0b14_row1_col5\" class=\"data row1 col5\" >0.8657</td>\n",
       "      <td id=\"T_c0b14_row1_col6\" class=\"data row1 col6\" >0.7913</td>\n",
       "      <td id=\"T_c0b14_row1_col7\" class=\"data row1 col7\" >0.8023</td>\n",
       "      <td id=\"T_c0b14_row1_col8\" class=\"data row1 col8\" >0.9570</td>\n",
       "    </tr>\n",
       "    <tr>\n",
       "      <th id=\"T_c0b14_level0_row2\" class=\"row_heading level0 row2\" >nb</th>\n",
       "      <td id=\"T_c0b14_row2_col0\" class=\"data row2 col0\" >Naive Bayes</td>\n",
       "      <td id=\"T_c0b14_row2_col1\" class=\"data row2 col1\" >0.8964</td>\n",
       "      <td id=\"T_c0b14_row2_col2\" class=\"data row2 col2\" >0.9528</td>\n",
       "      <td id=\"T_c0b14_row2_col3\" class=\"data row2 col3\" >0.8300</td>\n",
       "      <td id=\"T_c0b14_row2_col4\" class=\"data row2 col4\" >0.8783</td>\n",
       "      <td id=\"T_c0b14_row2_col5\" class=\"data row2 col5\" >0.8463</td>\n",
       "      <td id=\"T_c0b14_row2_col6\" class=\"data row2 col6\" >0.7693</td>\n",
       "      <td id=\"T_c0b14_row2_col7\" class=\"data row2 col7\" >0.7763</td>\n",
       "      <td id=\"T_c0b14_row2_col8\" class=\"data row2 col8\" >0.0380</td>\n",
       "    </tr>\n",
       "    <tr>\n",
       "      <th id=\"T_c0b14_level0_row3\" class=\"row_heading level0 row3\" >xgboost</th>\n",
       "      <td id=\"T_c0b14_row3_col0\" class=\"data row3 col0\" >Extreme Gradient Boosting</td>\n",
       "      <td id=\"T_c0b14_row3_col1\" class=\"data row3 col1\" >0.8964</td>\n",
       "      <td id=\"T_c0b14_row3_col2\" class=\"data row3 col2\" >0.9314</td>\n",
       "      <td id=\"T_c0b14_row3_col3\" class=\"data row3 col3\" >0.8700</td>\n",
       "      <td id=\"T_c0b14_row3_col4\" class=\"data row3 col4\" >0.8563</td>\n",
       "      <td id=\"T_c0b14_row3_col5\" class=\"data row3 col5\" >0.8513</td>\n",
       "      <td id=\"T_c0b14_row3_col6\" class=\"data row3 col6\" >0.7729</td>\n",
       "      <td id=\"T_c0b14_row3_col7\" class=\"data row3 col7\" >0.7848</td>\n",
       "      <td id=\"T_c0b14_row3_col8\" class=\"data row3 col8\" >0.0680</td>\n",
       "    </tr>\n",
       "    <tr>\n",
       "      <th id=\"T_c0b14_level0_row4\" class=\"row_heading level0 row4\" >lightgbm</th>\n",
       "      <td id=\"T_c0b14_row4_col0\" class=\"data row4 col0\" >Light Gradient Boosting Machine</td>\n",
       "      <td id=\"T_c0b14_row4_col1\" class=\"data row4 col1\" >0.8929</td>\n",
       "      <td id=\"T_c0b14_row4_col2\" class=\"data row4 col2\" >0.9367</td>\n",
       "      <td id=\"T_c0b14_row4_col3\" class=\"data row4 col3\" >0.8600</td>\n",
       "      <td id=\"T_c0b14_row4_col4\" class=\"data row4 col4\" >0.8527</td>\n",
       "      <td id=\"T_c0b14_row4_col5\" class=\"data row4 col5\" >0.8448</td>\n",
       "      <td id=\"T_c0b14_row4_col6\" class=\"data row4 col6\" >0.7642</td>\n",
       "      <td id=\"T_c0b14_row4_col7\" class=\"data row4 col7\" >0.7758</td>\n",
       "      <td id=\"T_c0b14_row4_col8\" class=\"data row4 col8\" >0.0530</td>\n",
       "    </tr>\n",
       "    <tr>\n",
       "      <th id=\"T_c0b14_level0_row5\" class=\"row_heading level0 row5\" >rf</th>\n",
       "      <td id=\"T_c0b14_row5_col0\" class=\"data row5 col0\" >Random Forest Classifier</td>\n",
       "      <td id=\"T_c0b14_row5_col1\" class=\"data row5 col1\" >0.8893</td>\n",
       "      <td id=\"T_c0b14_row5_col2\" class=\"data row5 col2\" >0.9300</td>\n",
       "      <td id=\"T_c0b14_row5_col3\" class=\"data row5 col3\" >0.8800</td>\n",
       "      <td id=\"T_c0b14_row5_col4\" class=\"data row5 col4\" >0.8356</td>\n",
       "      <td id=\"T_c0b14_row5_col5\" class=\"data row5 col5\" >0.8495</td>\n",
       "      <td id=\"T_c0b14_row5_col6\" class=\"data row5 col6\" >0.7627</td>\n",
       "      <td id=\"T_c0b14_row5_col7\" class=\"data row5 col7\" >0.7718</td>\n",
       "      <td id=\"T_c0b14_row5_col8\" class=\"data row5 col8\" >0.2130</td>\n",
       "    </tr>\n",
       "    <tr>\n",
       "      <th id=\"T_c0b14_level0_row6\" class=\"row_heading level0 row6\" >et</th>\n",
       "      <td id=\"T_c0b14_row6_col0\" class=\"data row6 col0\" >Extra Trees Classifier</td>\n",
       "      <td id=\"T_c0b14_row6_col1\" class=\"data row6 col1\" >0.8821</td>\n",
       "      <td id=\"T_c0b14_row6_col2\" class=\"data row6 col2\" >0.9178</td>\n",
       "      <td id=\"T_c0b14_row6_col3\" class=\"data row6 col3\" >0.8600</td>\n",
       "      <td id=\"T_c0b14_row6_col4\" class=\"data row6 col4\" >0.8343</td>\n",
       "      <td id=\"T_c0b14_row6_col5\" class=\"data row6 col5\" >0.8343</td>\n",
       "      <td id=\"T_c0b14_row6_col6\" class=\"data row6 col6\" >0.7440</td>\n",
       "      <td id=\"T_c0b14_row6_col7\" class=\"data row6 col7\" >0.7571</td>\n",
       "      <td id=\"T_c0b14_row6_col8\" class=\"data row6 col8\" >0.1710</td>\n",
       "    </tr>\n",
       "    <tr>\n",
       "      <th id=\"T_c0b14_level0_row7\" class=\"row_heading level0 row7\" >gbc</th>\n",
       "      <td id=\"T_c0b14_row7_col0\" class=\"data row7 col0\" >Gradient Boosting Classifier</td>\n",
       "      <td id=\"T_c0b14_row7_col1\" class=\"data row7 col1\" >0.8750</td>\n",
       "      <td id=\"T_c0b14_row7_col2\" class=\"data row7 col2\" >0.9422</td>\n",
       "      <td id=\"T_c0b14_row7_col3\" class=\"data row7 col3\" >0.8200</td>\n",
       "      <td id=\"T_c0b14_row7_col4\" class=\"data row7 col4\" >0.8416</td>\n",
       "      <td id=\"T_c0b14_row7_col5\" class=\"data row7 col5\" >0.8184</td>\n",
       "      <td id=\"T_c0b14_row7_col6\" class=\"data row7 col6\" >0.7246</td>\n",
       "      <td id=\"T_c0b14_row7_col7\" class=\"data row7 col7\" >0.7357</td>\n",
       "      <td id=\"T_c0b14_row7_col8\" class=\"data row7 col8\" >0.1800</td>\n",
       "    </tr>\n",
       "    <tr>\n",
       "      <th id=\"T_c0b14_level0_row8\" class=\"row_heading level0 row8\" >dt</th>\n",
       "      <td id=\"T_c0b14_row8_col0\" class=\"data row8 col0\" >Decision Tree Classifier</td>\n",
       "      <td id=\"T_c0b14_row8_col1\" class=\"data row8 col1\" >0.8679</td>\n",
       "      <td id=\"T_c0b14_row8_col2\" class=\"data row8 col2\" >0.8544</td>\n",
       "      <td id=\"T_c0b14_row8_col3\" class=\"data row8 col3\" >0.8100</td>\n",
       "      <td id=\"T_c0b14_row8_col4\" class=\"data row8 col4\" >0.8347</td>\n",
       "      <td id=\"T_c0b14_row8_col5\" class=\"data row8 col5\" >0.8056</td>\n",
       "      <td id=\"T_c0b14_row8_col6\" class=\"data row8 col6\" >0.7077</td>\n",
       "      <td id=\"T_c0b14_row8_col7\" class=\"data row8 col7\" >0.7210</td>\n",
       "      <td id=\"T_c0b14_row8_col8\" class=\"data row8 col8\" >0.0360</td>\n",
       "    </tr>\n",
       "    <tr>\n",
       "      <th id=\"T_c0b14_level0_row9\" class=\"row_heading level0 row9\" >ada</th>\n",
       "      <td id=\"T_c0b14_row9_col0\" class=\"data row9 col0\" >Ada Boost Classifier</td>\n",
       "      <td id=\"T_c0b14_row9_col1\" class=\"data row9 col1\" >0.8571</td>\n",
       "      <td id=\"T_c0b14_row9_col2\" class=\"data row9 col2\" >0.9192</td>\n",
       "      <td id=\"T_c0b14_row9_col3\" class=\"data row9 col3\" >0.7700</td>\n",
       "      <td id=\"T_c0b14_row9_col4\" class=\"data row9 col4\" >0.8345</td>\n",
       "      <td id=\"T_c0b14_row9_col5\" class=\"data row9 col5\" >0.7906</td>\n",
       "      <td id=\"T_c0b14_row9_col6\" class=\"data row9 col6\" >0.6836</td>\n",
       "      <td id=\"T_c0b14_row9_col7\" class=\"data row9 col7\" >0.6940</td>\n",
       "      <td id=\"T_c0b14_row9_col8\" class=\"data row9 col8\" >0.1580</td>\n",
       "    </tr>\n",
       "    <tr>\n",
       "      <th id=\"T_c0b14_level0_row10\" class=\"row_heading level0 row10\" >lr</th>\n",
       "      <td id=\"T_c0b14_row10_col0\" class=\"data row10 col0\" >Logistic Regression</td>\n",
       "      <td id=\"T_c0b14_row10_col1\" class=\"data row10 col1\" >0.8357</td>\n",
       "      <td id=\"T_c0b14_row10_col2\" class=\"data row10 col2\" >0.9178</td>\n",
       "      <td id=\"T_c0b14_row10_col3\" class=\"data row10 col3\" >0.6800</td>\n",
       "      <td id=\"T_c0b14_row10_col4\" class=\"data row10 col4\" >0.8431</td>\n",
       "      <td id=\"T_c0b14_row10_col5\" class=\"data row10 col5\" >0.7405</td>\n",
       "      <td id=\"T_c0b14_row10_col6\" class=\"data row10 col6\" >0.6244</td>\n",
       "      <td id=\"T_c0b14_row10_col7\" class=\"data row10 col7\" >0.6401</td>\n",
       "      <td id=\"T_c0b14_row10_col8\" class=\"data row10 col8\" >0.0450</td>\n",
       "    </tr>\n",
       "    <tr>\n",
       "      <th id=\"T_c0b14_level0_row11\" class=\"row_heading level0 row11\" >ridge</th>\n",
       "      <td id=\"T_c0b14_row11_col0\" class=\"data row11 col0\" >Ridge Classifier</td>\n",
       "      <td id=\"T_c0b14_row11_col1\" class=\"data row11 col1\" >0.8250</td>\n",
       "      <td id=\"T_c0b14_row11_col2\" class=\"data row11 col2\" >0.9183</td>\n",
       "      <td id=\"T_c0b14_row11_col3\" class=\"data row11 col3\" >0.6200</td>\n",
       "      <td id=\"T_c0b14_row11_col4\" class=\"data row11 col4\" >0.8608</td>\n",
       "      <td id=\"T_c0b14_row11_col5\" class=\"data row11 col5\" >0.7096</td>\n",
       "      <td id=\"T_c0b14_row11_col6\" class=\"data row11 col6\" >0.5914</td>\n",
       "      <td id=\"T_c0b14_row11_col7\" class=\"data row11 col7\" >0.6145</td>\n",
       "      <td id=\"T_c0b14_row11_col8\" class=\"data row11 col8\" >0.0380</td>\n",
       "    </tr>\n",
       "    <tr>\n",
       "      <th id=\"T_c0b14_level0_row12\" class=\"row_heading level0 row12\" >lda</th>\n",
       "      <td id=\"T_c0b14_row12_col0\" class=\"data row12 col0\" >Linear Discriminant Analysis</td>\n",
       "      <td id=\"T_c0b14_row12_col1\" class=\"data row12 col1\" >0.8214</td>\n",
       "      <td id=\"T_c0b14_row12_col2\" class=\"data row12 col2\" >0.9183</td>\n",
       "      <td id=\"T_c0b14_row12_col3\" class=\"data row12 col3\" >0.6300</td>\n",
       "      <td id=\"T_c0b14_row12_col4\" class=\"data row12 col4\" >0.8435</td>\n",
       "      <td id=\"T_c0b14_row12_col5\" class=\"data row12 col5\" >0.7103</td>\n",
       "      <td id=\"T_c0b14_row12_col6\" class=\"data row12 col6\" >0.5870</td>\n",
       "      <td id=\"T_c0b14_row12_col7\" class=\"data row12 col7\" >0.6069</td>\n",
       "      <td id=\"T_c0b14_row12_col8\" class=\"data row12 col8\" >0.0360</td>\n",
       "    </tr>\n",
       "    <tr>\n",
       "      <th id=\"T_c0b14_level0_row13\" class=\"row_heading level0 row13\" >knn</th>\n",
       "      <td id=\"T_c0b14_row13_col0\" class=\"data row13 col0\" >K Neighbors Classifier</td>\n",
       "      <td id=\"T_c0b14_row13_col1\" class=\"data row13 col1\" >0.8036</td>\n",
       "      <td id=\"T_c0b14_row13_col2\" class=\"data row13 col2\" >0.8633</td>\n",
       "      <td id=\"T_c0b14_row13_col3\" class=\"data row13 col3\" >0.6500</td>\n",
       "      <td id=\"T_c0b14_row13_col4\" class=\"data row13 col4\" >0.8061</td>\n",
       "      <td id=\"T_c0b14_row13_col5\" class=\"data row13 col5\" >0.6913</td>\n",
       "      <td id=\"T_c0b14_row13_col6\" class=\"data row13 col6\" >0.5542</td>\n",
       "      <td id=\"T_c0b14_row13_col7\" class=\"data row13 col7\" >0.5786</td>\n",
       "      <td id=\"T_c0b14_row13_col8\" class=\"data row13 col8\" >0.0400</td>\n",
       "    </tr>\n",
       "    <tr>\n",
       "      <th id=\"T_c0b14_level0_row14\" class=\"row_heading level0 row14\" >dummy</th>\n",
       "      <td id=\"T_c0b14_row14_col0\" class=\"data row14 col0\" >Dummy Classifier</td>\n",
       "      <td id=\"T_c0b14_row14_col1\" class=\"data row14 col1\" >0.6429</td>\n",
       "      <td id=\"T_c0b14_row14_col2\" class=\"data row14 col2\" >0.5000</td>\n",
       "      <td id=\"T_c0b14_row14_col3\" class=\"data row14 col3\" >0.0000</td>\n",
       "      <td id=\"T_c0b14_row14_col4\" class=\"data row14 col4\" >0.0000</td>\n",
       "      <td id=\"T_c0b14_row14_col5\" class=\"data row14 col5\" >0.0000</td>\n",
       "      <td id=\"T_c0b14_row14_col6\" class=\"data row14 col6\" >0.0000</td>\n",
       "      <td id=\"T_c0b14_row14_col7\" class=\"data row14 col7\" >0.0000</td>\n",
       "      <td id=\"T_c0b14_row14_col8\" class=\"data row14 col8\" >0.0330</td>\n",
       "    </tr>\n",
       "    <tr>\n",
       "      <th id=\"T_c0b14_level0_row15\" class=\"row_heading level0 row15\" >svm</th>\n",
       "      <td id=\"T_c0b14_row15_col0\" class=\"data row15 col0\" >SVM - Linear Kernel</td>\n",
       "      <td id=\"T_c0b14_row15_col1\" class=\"data row15 col1\" >0.5857</td>\n",
       "      <td id=\"T_c0b14_row15_col2\" class=\"data row15 col2\" >0.4444</td>\n",
       "      <td id=\"T_c0b14_row15_col3\" class=\"data row15 col3\" >0.2000</td>\n",
       "      <td id=\"T_c0b14_row15_col4\" class=\"data row15 col4\" >0.0714</td>\n",
       "      <td id=\"T_c0b14_row15_col5\" class=\"data row15 col5\" >0.1053</td>\n",
       "      <td id=\"T_c0b14_row15_col6\" class=\"data row15 col6\" >0.0000</td>\n",
       "      <td id=\"T_c0b14_row15_col7\" class=\"data row15 col7\" >0.0000</td>\n",
       "      <td id=\"T_c0b14_row15_col8\" class=\"data row15 col8\" >0.0600</td>\n",
       "    </tr>\n",
       "  </tbody>\n",
       "</table>\n"
      ],
      "text/plain": [
       "<pandas.io.formats.style.Styler at 0x791259395f90>"
      ]
     },
     "metadata": {},
     "output_type": "display_data"
    },
    {
     "data": {
      "application/vnd.jupyter.widget-view+json": {
       "model_id": "98de642c73bb4911868e682c75704ef8",
       "version_major": 2,
       "version_minor": 0
      },
      "text/plain": [
       "Processing:   0%|          | 0/69 [00:00<?, ?it/s]"
      ]
     },
     "metadata": {},
     "output_type": "display_data"
    }
   ],
   "source": [
    "best_model=compare_models()"
   ]
  },
  {
   "cell_type": "code",
   "execution_count": 23,
   "id": "ddafbb60",
   "metadata": {
    "colab": {
     "base_uri": "https://localhost:8080/",
     "height": 457,
     "referenced_widgets": [
      "48689cba6e424a2e937ad4ab05ae64df",
      "f9ed8342483647db83e2df38520fa715",
      "a5c0c2cdfc444e0da47f05ddec69c6a4",
      "e31d5dd3ba2c42239e384d88d2ab4b42",
      "4e9ee41f69724b239d09abc2b0c2adfa",
      "425cb4d9703045809726dc5b9b15dca8",
      "5df94e2de08145daa19a0377c26b50f0",
      "d08e2aad6cbf4b84b8c33a1ebea13463",
      "4691f0b738034129bc9770d151b3eb4b",
      "96c078111ca3406aa4c94e176e181baf",
      "75b1c5717be7445cba14e9029bddfddc"
     ]
    },
    "execution": {
     "iopub.execute_input": "2024-08-15T09:52:14.652228Z",
     "iopub.status.busy": "2024-08-15T09:52:14.651900Z",
     "iopub.status.idle": "2024-08-15T09:52:15.524709Z",
     "shell.execute_reply": "2024-08-15T09:52:15.523529Z",
     "shell.execute_reply.started": "2024-08-15T09:52:14.652200Z"
    },
    "id": "1d59b90d-94fd-4ee3-8664-d3d48269ba1e",
    "outputId": "17dead30-9867-4e99-8aa4-4d20b7873729"
   },
   "outputs": [
    {
     "data": {
      "text/html": [],
      "text/plain": [
       "<IPython.core.display.HTML object>"
      ]
     },
     "metadata": {},
     "output_type": "display_data"
    },
    {
     "data": {
      "text/html": [
       "<style type=\"text/css\">\n",
       "#T_3d200_row10_col0, #T_3d200_row10_col1, #T_3d200_row10_col2, #T_3d200_row10_col3, #T_3d200_row10_col4, #T_3d200_row10_col5, #T_3d200_row10_col6 {\n",
       "  background: yellow;\n",
       "}\n",
       "</style>\n",
       "<table id=\"T_3d200\">\n",
       "  <thead>\n",
       "    <tr>\n",
       "      <th class=\"blank level0\" >&nbsp;</th>\n",
       "      <th id=\"T_3d200_level0_col0\" class=\"col_heading level0 col0\" >Accuracy</th>\n",
       "      <th id=\"T_3d200_level0_col1\" class=\"col_heading level0 col1\" >AUC</th>\n",
       "      <th id=\"T_3d200_level0_col2\" class=\"col_heading level0 col2\" >Recall</th>\n",
       "      <th id=\"T_3d200_level0_col3\" class=\"col_heading level0 col3\" >Prec.</th>\n",
       "      <th id=\"T_3d200_level0_col4\" class=\"col_heading level0 col4\" >F1</th>\n",
       "      <th id=\"T_3d200_level0_col5\" class=\"col_heading level0 col5\" >Kappa</th>\n",
       "      <th id=\"T_3d200_level0_col6\" class=\"col_heading level0 col6\" >MCC</th>\n",
       "    </tr>\n",
       "    <tr>\n",
       "      <th class=\"index_name level0\" >Fold</th>\n",
       "      <th class=\"blank col0\" >&nbsp;</th>\n",
       "      <th class=\"blank col1\" >&nbsp;</th>\n",
       "      <th class=\"blank col2\" >&nbsp;</th>\n",
       "      <th class=\"blank col3\" >&nbsp;</th>\n",
       "      <th class=\"blank col4\" >&nbsp;</th>\n",
       "      <th class=\"blank col5\" >&nbsp;</th>\n",
       "      <th class=\"blank col6\" >&nbsp;</th>\n",
       "    </tr>\n",
       "  </thead>\n",
       "  <tbody>\n",
       "    <tr>\n",
       "      <th id=\"T_3d200_level0_row0\" class=\"row_heading level0 row0\" >0</th>\n",
       "      <td id=\"T_3d200_row0_col0\" class=\"data row0 col0\" >0.9286</td>\n",
       "      <td id=\"T_3d200_row0_col1\" class=\"data row0 col1\" >0.9611</td>\n",
       "      <td id=\"T_3d200_row0_col2\" class=\"data row0 col2\" >0.9000</td>\n",
       "      <td id=\"T_3d200_row0_col3\" class=\"data row0 col3\" >0.9000</td>\n",
       "      <td id=\"T_3d200_row0_col4\" class=\"data row0 col4\" >0.9000</td>\n",
       "      <td id=\"T_3d200_row0_col5\" class=\"data row0 col5\" >0.8444</td>\n",
       "      <td id=\"T_3d200_row0_col6\" class=\"data row0 col6\" >0.8444</td>\n",
       "    </tr>\n",
       "    <tr>\n",
       "      <th id=\"T_3d200_level0_row1\" class=\"row_heading level0 row1\" >1</th>\n",
       "      <td id=\"T_3d200_row1_col0\" class=\"data row1 col0\" >0.7857</td>\n",
       "      <td id=\"T_3d200_row1_col1\" class=\"data row1 col1\" >0.8722</td>\n",
       "      <td id=\"T_3d200_row1_col2\" class=\"data row1 col2\" >0.7000</td>\n",
       "      <td id=\"T_3d200_row1_col3\" class=\"data row1 col3\" >0.7000</td>\n",
       "      <td id=\"T_3d200_row1_col4\" class=\"data row1 col4\" >0.7000</td>\n",
       "      <td id=\"T_3d200_row1_col5\" class=\"data row1 col5\" >0.5333</td>\n",
       "      <td id=\"T_3d200_row1_col6\" class=\"data row1 col6\" >0.5333</td>\n",
       "    </tr>\n",
       "    <tr>\n",
       "      <th id=\"T_3d200_level0_row2\" class=\"row_heading level0 row2\" >2</th>\n",
       "      <td id=\"T_3d200_row2_col0\" class=\"data row2 col0\" >0.7857</td>\n",
       "      <td id=\"T_3d200_row2_col1\" class=\"data row2 col1\" >0.8778</td>\n",
       "      <td id=\"T_3d200_row2_col2\" class=\"data row2 col2\" >0.4000</td>\n",
       "      <td id=\"T_3d200_row2_col3\" class=\"data row2 col3\" >1.0000</td>\n",
       "      <td id=\"T_3d200_row2_col4\" class=\"data row2 col4\" >0.5714</td>\n",
       "      <td id=\"T_3d200_row2_col5\" class=\"data row2 col5\" >0.4615</td>\n",
       "      <td id=\"T_3d200_row2_col6\" class=\"data row2 col6\" >0.5477</td>\n",
       "    </tr>\n",
       "    <tr>\n",
       "      <th id=\"T_3d200_level0_row3\" class=\"row_heading level0 row3\" >3</th>\n",
       "      <td id=\"T_3d200_row3_col0\" class=\"data row3 col0\" >0.8571</td>\n",
       "      <td id=\"T_3d200_row3_col1\" class=\"data row3 col1\" >0.9000</td>\n",
       "      <td id=\"T_3d200_row3_col2\" class=\"data row3 col2\" >0.8000</td>\n",
       "      <td id=\"T_3d200_row3_col3\" class=\"data row3 col3\" >0.8000</td>\n",
       "      <td id=\"T_3d200_row3_col4\" class=\"data row3 col4\" >0.8000</td>\n",
       "      <td id=\"T_3d200_row3_col5\" class=\"data row3 col5\" >0.6889</td>\n",
       "      <td id=\"T_3d200_row3_col6\" class=\"data row3 col6\" >0.6889</td>\n",
       "    </tr>\n",
       "    <tr>\n",
       "      <th id=\"T_3d200_level0_row4\" class=\"row_heading level0 row4\" >4</th>\n",
       "      <td id=\"T_3d200_row4_col0\" class=\"data row4 col0\" >0.8929</td>\n",
       "      <td id=\"T_3d200_row4_col1\" class=\"data row4 col1\" >0.9778</td>\n",
       "      <td id=\"T_3d200_row4_col2\" class=\"data row4 col2\" >0.7000</td>\n",
       "      <td id=\"T_3d200_row4_col3\" class=\"data row4 col3\" >1.0000</td>\n",
       "      <td id=\"T_3d200_row4_col4\" class=\"data row4 col4\" >0.8235</td>\n",
       "      <td id=\"T_3d200_row4_col5\" class=\"data row4 col5\" >0.7500</td>\n",
       "      <td id=\"T_3d200_row4_col6\" class=\"data row4 col6\" >0.7746</td>\n",
       "    </tr>\n",
       "    <tr>\n",
       "      <th id=\"T_3d200_level0_row5\" class=\"row_heading level0 row5\" >5</th>\n",
       "      <td id=\"T_3d200_row5_col0\" class=\"data row5 col0\" >0.7500</td>\n",
       "      <td id=\"T_3d200_row5_col1\" class=\"data row5 col1\" >0.8389</td>\n",
       "      <td id=\"T_3d200_row5_col2\" class=\"data row5 col2\" >0.6000</td>\n",
       "      <td id=\"T_3d200_row5_col3\" class=\"data row5 col3\" >0.6667</td>\n",
       "      <td id=\"T_3d200_row5_col4\" class=\"data row5 col4\" >0.6316</td>\n",
       "      <td id=\"T_3d200_row5_col5\" class=\"data row5 col5\" >0.4432</td>\n",
       "      <td id=\"T_3d200_row5_col6\" class=\"data row5 col6\" >0.4446</td>\n",
       "    </tr>\n",
       "    <tr>\n",
       "      <th id=\"T_3d200_level0_row6\" class=\"row_heading level0 row6\" >6</th>\n",
       "      <td id=\"T_3d200_row6_col0\" class=\"data row6 col0\" >0.7857</td>\n",
       "      <td id=\"T_3d200_row6_col1\" class=\"data row6 col1\" >0.8444</td>\n",
       "      <td id=\"T_3d200_row6_col2\" class=\"data row6 col2\" >0.6000</td>\n",
       "      <td id=\"T_3d200_row6_col3\" class=\"data row6 col3\" >0.7500</td>\n",
       "      <td id=\"T_3d200_row6_col4\" class=\"data row6 col4\" >0.6667</td>\n",
       "      <td id=\"T_3d200_row6_col5\" class=\"data row6 col5\" >0.5116</td>\n",
       "      <td id=\"T_3d200_row6_col6\" class=\"data row6 col6\" >0.5185</td>\n",
       "    </tr>\n",
       "    <tr>\n",
       "      <th id=\"T_3d200_level0_row7\" class=\"row_heading level0 row7\" >7</th>\n",
       "      <td id=\"T_3d200_row7_col0\" class=\"data row7 col0\" >0.8214</td>\n",
       "      <td id=\"T_3d200_row7_col1\" class=\"data row7 col1\" >0.9778</td>\n",
       "      <td id=\"T_3d200_row7_col2\" class=\"data row7 col2\" >0.6000</td>\n",
       "      <td id=\"T_3d200_row7_col3\" class=\"data row7 col3\" >0.8571</td>\n",
       "      <td id=\"T_3d200_row7_col4\" class=\"data row7 col4\" >0.7059</td>\n",
       "      <td id=\"T_3d200_row7_col5\" class=\"data row7 col5\" >0.5833</td>\n",
       "      <td id=\"T_3d200_row7_col6\" class=\"data row7 col6\" >0.6025</td>\n",
       "    </tr>\n",
       "    <tr>\n",
       "      <th id=\"T_3d200_level0_row8\" class=\"row_heading level0 row8\" >8</th>\n",
       "      <td id=\"T_3d200_row8_col0\" class=\"data row8 col0\" >0.9286</td>\n",
       "      <td id=\"T_3d200_row8_col1\" class=\"data row8 col1\" >0.9778</td>\n",
       "      <td id=\"T_3d200_row8_col2\" class=\"data row8 col2\" >0.9000</td>\n",
       "      <td id=\"T_3d200_row8_col3\" class=\"data row8 col3\" >0.9000</td>\n",
       "      <td id=\"T_3d200_row8_col4\" class=\"data row8 col4\" >0.9000</td>\n",
       "      <td id=\"T_3d200_row8_col5\" class=\"data row8 col5\" >0.8444</td>\n",
       "      <td id=\"T_3d200_row8_col6\" class=\"data row8 col6\" >0.8444</td>\n",
       "    </tr>\n",
       "    <tr>\n",
       "      <th id=\"T_3d200_level0_row9\" class=\"row_heading level0 row9\" >9</th>\n",
       "      <td id=\"T_3d200_row9_col0\" class=\"data row9 col0\" >0.8214</td>\n",
       "      <td id=\"T_3d200_row9_col1\" class=\"data row9 col1\" >0.9500</td>\n",
       "      <td id=\"T_3d200_row9_col2\" class=\"data row9 col2\" >0.6000</td>\n",
       "      <td id=\"T_3d200_row9_col3\" class=\"data row9 col3\" >0.8571</td>\n",
       "      <td id=\"T_3d200_row9_col4\" class=\"data row9 col4\" >0.7059</td>\n",
       "      <td id=\"T_3d200_row9_col5\" class=\"data row9 col5\" >0.5833</td>\n",
       "      <td id=\"T_3d200_row9_col6\" class=\"data row9 col6\" >0.6025</td>\n",
       "    </tr>\n",
       "    <tr>\n",
       "      <th id=\"T_3d200_level0_row10\" class=\"row_heading level0 row10\" >Mean</th>\n",
       "      <td id=\"T_3d200_row10_col0\" class=\"data row10 col0\" >0.8357</td>\n",
       "      <td id=\"T_3d200_row10_col1\" class=\"data row10 col1\" >0.9178</td>\n",
       "      <td id=\"T_3d200_row10_col2\" class=\"data row10 col2\" >0.6800</td>\n",
       "      <td id=\"T_3d200_row10_col3\" class=\"data row10 col3\" >0.8431</td>\n",
       "      <td id=\"T_3d200_row10_col4\" class=\"data row10 col4\" >0.7405</td>\n",
       "      <td id=\"T_3d200_row10_col5\" class=\"data row10 col5\" >0.6244</td>\n",
       "      <td id=\"T_3d200_row10_col6\" class=\"data row10 col6\" >0.6401</td>\n",
       "    </tr>\n",
       "    <tr>\n",
       "      <th id=\"T_3d200_level0_row11\" class=\"row_heading level0 row11\" >Std</th>\n",
       "      <td id=\"T_3d200_row11_col0\" class=\"data row11 col0\" >0.0602</td>\n",
       "      <td id=\"T_3d200_row11_col1\" class=\"data row11 col1\" >0.0541</td>\n",
       "      <td id=\"T_3d200_row11_col2\" class=\"data row11 col2\" >0.1470</td>\n",
       "      <td id=\"T_3d200_row11_col3\" class=\"data row11 col3\" >0.1087</td>\n",
       "      <td id=\"T_3d200_row11_col4\" class=\"data row11 col4\" >0.1055</td>\n",
       "      <td id=\"T_3d200_row11_col5\" class=\"data row11 col5\" >0.1416</td>\n",
       "      <td id=\"T_3d200_row11_col6\" class=\"data row11 col6\" >0.1341</td>\n",
       "    </tr>\n",
       "  </tbody>\n",
       "</table>\n"
      ],
      "text/plain": [
       "<pandas.io.formats.style.Styler at 0x7912587cee30>"
      ]
     },
     "metadata": {},
     "output_type": "display_data"
    },
    {
     "data": {
      "application/vnd.jupyter.widget-view+json": {
       "model_id": "20317e67f06f4b9ab76a4c57ddf7b284",
       "version_major": 2,
       "version_minor": 0
      },
      "text/plain": [
       "Processing:   0%|          | 0/4 [00:00<?, ?it/s]"
      ]
     },
     "metadata": {},
     "output_type": "display_data"
    }
   ],
   "source": [
    "best_model=create_model('lr')"
   ]
  },
  {
   "cell_type": "code",
   "execution_count": 24,
   "id": "e378bd6b",
   "metadata": {
    "colab": {
     "base_uri": "https://localhost:8080/",
     "height": 485
    },
    "execution": {
     "iopub.execute_input": "2024-08-15T09:52:15.529067Z",
     "iopub.status.busy": "2024-08-15T09:52:15.528702Z",
     "iopub.status.idle": "2024-08-15T09:52:16.053808Z",
     "shell.execute_reply": "2024-08-15T09:52:16.052698Z",
     "shell.execute_reply.started": "2024-08-15T09:52:15.529036Z"
    },
    "id": "dbca645c-b2c5-4ebf-a36a-bb51a9a1813c",
    "outputId": "bdee5021-98d0-4d94-f9f2-3833df86f734"
   },
   "outputs": [
    {
     "data": {
      "text/html": [],
      "text/plain": [
       "<IPython.core.display.HTML object>"
      ]
     },
     "metadata": {},
     "output_type": "display_data"
    },
    {
     "data": {
      "image/png": "[encoded data removed]",
      "text/plain": [
       "<Figure size 800x500 with 1 Axes>"
      ]
     },
     "metadata": {},
     "output_type": "display_data"
    }
   ],
   "source": [
    "plot_model(best_model,plot='feature')"
   ]
  },
  {
   "cell_type": "raw",
   "id": "331d363c",
   "metadata": {
    "id": "d79c8e42-0a91-415a-9d46-1799a3a9f7f8"
   },
   "source": []
  },
  {
   "cell_type": "markdown",
   "id": "27d0c642",
   "metadata": {
    "id": "094af6b1-1921-427f-8086-7216a43966c5"
   },
   "source": [
    "## <font color='#0F52BA'> Öznitelik Mühendisliği - Feature Engineering"
   ]
  },
  {
   "cell_type": "markdown",
   "id": "495a817f",
   "metadata": {
    "id": "7f6ece7d-bdf5-4382-81b3-860edaa5f25e"
   },
   "source": [
    "### <font color=#007fff> Model - Modelling"
   ]
  },
  {
   "cell_type": "code",
   "execution_count": 26,
   "id": "644293c3",
   "metadata": {
    "execution": {
     "iopub.execute_input": "2024-08-15T09:52:27.277781Z",
     "iopub.status.busy": "2024-08-15T09:52:27.276759Z",
     "iopub.status.idle": "2024-08-15T09:52:27.284701Z",
     "shell.execute_reply": "2024-08-15T09:52:27.283562Z",
     "shell.execute_reply.started": "2024-08-15T09:52:27.277740Z"
    },
    "id": "0bad8494-69ac-4a46-b72f-d88879ecdf69"
   },
   "outputs": [],
   "source": [
    "x = np.array(df[[\"Age\", \"EstimatedSalary\"]])\n",
    "y = np.array(df[[\"Purchased\"]])"
   ]
  },
  {
   "cell_type": "code",
   "execution_count": 27,
   "id": "5ce6d6a6",
   "metadata": {
    "execution": {
     "iopub.execute_input": "2024-08-15T09:52:28.502429Z",
     "iopub.status.busy": "2024-08-15T09:52:28.502003Z",
     "iopub.status.idle": "2024-08-15T09:52:28.510644Z",
     "shell.execute_reply": "2024-08-15T09:52:28.509380Z",
     "shell.execute_reply.started": "2024-08-15T09:52:28.502386Z"
    },
    "id": "524d2255-ed00-4b49-996d-2ae7b351a71c"
   },
   "outputs": [],
   "source": [
    "x=scale(x)"
   ]
  },
  {
   "cell_type": "code",
   "execution_count": 28,
   "id": "8015a1c3",
   "metadata": {
    "execution": {
     "iopub.execute_input": "2024-08-15T09:52:28.845822Z",
     "iopub.status.busy": "2024-08-15T09:52:28.844873Z",
     "iopub.status.idle": "2024-08-15T09:52:28.852772Z",
     "shell.execute_reply": "2024-08-15T09:52:28.851477Z",
     "shell.execute_reply.started": "2024-08-15T09:52:28.845759Z"
    },
    "id": "216c8b0c-24b5-4631-be6a-d2f5a0ee59f1"
   },
   "outputs": [],
   "source": [
    "x_train,x_test,y_train,y_test=train_test_split(x,y,test_size=.20,random_state=42)\n",
    "# TR = modelimizi eğittik.\n",
    "# EN = We trained our model."
   ]
  },
  {
   "cell_type": "code",
   "execution_count": 29,
   "id": "2cd74aa4",
   "metadata": {
    "execution": {
     "iopub.execute_input": "2024-08-15T09:52:29.611994Z",
     "iopub.status.busy": "2024-08-15T09:52:29.610851Z",
     "iopub.status.idle": "2024-08-15T09:52:29.964090Z",
     "shell.execute_reply": "2024-08-15T09:52:29.962848Z",
     "shell.execute_reply.started": "2024-08-15T09:52:29.611951Z"
    },
    "id": "b9921796-40cb-4256-8a17-efeb147dc05a"
   },
   "outputs": [],
   "source": [
    "input_dim = 2\n",
    "model=Sequential()\n",
    "model.add(Dense(240,activation='relu', input_shape=(input_dim,)))\n",
    "# TR = Bu katman, tüm giriş nöronlarına bağlantı kurar ve her nöronun ağırlıklarını öğrenir. 240 nöron var.\n",
    "# Aktivasyon fonksiyonunu ReLU (Rectified Linear Unit) olarak ayarlar. ReLU fonksiyonu, negatif değerleri sıfıra dönüştürür ve pozitif değerleri olduğu gibi bırakır.\n",
    "# EN = This layer connects all input neurons and learns the weights of each neuron. There are 240 neurons.\n",
    "# Sets the activation function to ReLU (Rectified Linear Unit). The ReLU function converts negative values ​​to zero and leaves positive values ​​as is.\n",
    "\n",
    "model.add(BatchNormalization())\n",
    "# TR = Bu katman, modelin eğitim sürecini daha stabil hale getirmek için kullanılır.\n",
    "# EN = This layer is used to make the training process of the model more stable.\n",
    "\n",
    "model.add(Dropout(0.5))\n",
    "# TR = Derin öğrenme modelinde aşırı uyumu (overfitting) azaltmak için kullanılır.\n",
    "# EN = It is used to reduce overfitting in the deep learning model.\n",
    "\n",
    "model.add(Dense(120, activation='relu'))\n",
    "model.add(BatchNormalization())\n",
    "model.add(Dropout(0.5))\n",
    "\n",
    "model.add(Dense(64, activation='relu'))\n",
    "model.add(BatchNormalization())\n",
    "model.add(Dropout(0.5))\n",
    "\n",
    "model.add(Dense(24, activation='relu'))\n",
    "model.add(BatchNormalization())\n",
    "model.add(Dropout(0.5))\n",
    "\n",
    "model.add(Dense(12, activation='relu'))\n",
    "model.add(BatchNormalization())\n",
    "model.add(Dropout(0.5))\n",
    "\n",
    "model.add(Dense(2,activation='relu'))\n",
    "model.add(BatchNormalization())\n",
    "model.add(Dropout(0.5))\n",
    "\n",
    "\n",
    "model.add(Dense(1,activation='sigmoid'))\n",
    "# TR = Sigmoid aktivasyon fonksiyonu, her bir nöronun çıkışını 0 ile 1 arasında bir değere dönüştürür.\n",
    "# Bu, özellikle ikili sınıflandırma problemlerinde her iki sınıfa ait olasılıkları tahmin etmek için uygundur.\n",
    "# EN = The sigmoid activation function transforms the output of each neuron into a value between 0 and 1.\n",
    "# This is particularly suitable for estimating probabilities of belonging to both classes in binary classification problems.\n",
    "\n",
    "# TR = activation='sigmoid' iki sınıftan birine ait olup olmadığını tahmin etmek için kullanılır. Örneğin, bir e-postanın spam olup olmadığını sınıflandırmak.\n",
    "# EN = activation='sigmoid' is used to predict whether an email belongs to one of two classes. For example, to classify whether an email is spam or not.\n",
    "\n",
    "model.compile(loss='binary_crossentropy',optimizer='adam',metrics=['accuracy'])\n",
    "# TR = loss='binary_crossentropy': İkili sınıflandırma problemleri için uygun bir kayıp fonksiyonudur. İki sınıf arasında ayrım yapmaya çalışırken modelin tahminlerinin ne kadar iyi olduğunu ölçer.\n",
    "# EN = loss='binary_crossentropy': A loss function suitable for binary classification problems. It measures how well the model's predictions are when trying to distinguish between two classes.\n",
    "\n",
    "# TR = optimizer='adam': Adam (Adaptive Moment Estimation) optimizasyon algoritması, modelin ağırlıklarını güncellerken kullanılan bir yöntemdir.\n",
    "# EN = optimizer='adam': Adam (Adaptive Moment Estimation) optimization algorithm is a method used when updating the weights of the model.\n",
    "\n",
    "# TR = metrics=['accuracy']: Modelin performansını değerlendirmek için kullanılan bir ölçümdür. Doğru sınıflandırılan örneklerin toplam örneklere oranını hesaplar.\n",
    "# EN = metrics=['accuracy']: A metric used to evaluate the performance of the model. It calculates the ratio of correctly classified examples to total examples."
   ]
  },
  {
   "cell_type": "code",
   "execution_count": 30,
   "id": "cfa0a14c",
   "metadata": {
    "colab": {
     "base_uri": "https://localhost:8080/"
    },
    "execution": {
     "iopub.execute_input": "2024-08-15T09:52:30.168988Z",
     "iopub.status.busy": "2024-08-15T09:52:30.168246Z",
     "iopub.status.idle": "2024-08-15T09:52:40.138541Z",
     "shell.execute_reply": "2024-08-15T09:52:40.137442Z",
     "shell.execute_reply.started": "2024-08-15T09:52:30.168947Z"
    },
    "id": "fdbd9ec1-2b6c-4af1-9a56-5c9e7eaec3a9",
    "outputId": "97784a5f-fcdf-4551-f3d8-43ea51a6bcdf"
   },
   "outputs": [
    {
     "name": "stdout",
     "output_type": "stream",
     "text": [
      "Epoch 1/50\n",
      "\u001b[1m10/10\u001b[0m \u001b[32m━━━━━━━━━━━━━━━━━━━━\u001b[0m\u001b[37m\u001b[0m \u001b[1m5s\u001b[0m 42ms/step - accuracy: 0.5502 - loss: 1.0146 - val_accuracy: 0.4375 - val_loss: 0.6894\n",
      "Epoch 2/50\n",
      "\u001b[1m10/10\u001b[0m \u001b[32m━━━━━━━━━━━━━━━━━━━━\u001b[0m\u001b[37m\u001b[0m \u001b[1m0s\u001b[0m 7ms/step - accuracy: 0.5496 - loss: 0.9193 - val_accuracy: 0.3625 - val_loss: 0.7044\n",
      "Epoch 3/50\n",
      "\u001b[1m10/10\u001b[0m \u001b[32m━━━━━━━━━━━━━━━━━━━━\u001b[0m\u001b[37m\u001b[0m \u001b[1m0s\u001b[0m 7ms/step - accuracy: 0.6026 - loss: 0.8070 - val_accuracy: 0.3625 - val_loss: 0.7240\n",
      "Epoch 4/50\n",
      "\u001b[1m10/10\u001b[0m \u001b[32m━━━━━━━━━━━━━━━━━━━━\u001b[0m\u001b[37m\u001b[0m \u001b[1m0s\u001b[0m 7ms/step - accuracy: 0.6011 - loss: 0.8413 - val_accuracy: 0.3625 - val_loss: 0.7407\n",
      "Epoch 5/50\n",
      "\u001b[1m10/10\u001b[0m \u001b[32m━━━━━━━━━━━━━━━━━━━━\u001b[0m\u001b[37m\u001b[0m \u001b[1m0s\u001b[0m 7ms/step - accuracy: 0.5679 - loss: 0.8262 - val_accuracy: 0.3625 - val_loss: 0.7529\n",
      "Epoch 6/50\n",
      "\u001b[1m10/10\u001b[0m \u001b[32m━━━━━━━━━━━━━━━━━━━━\u001b[0m\u001b[37m\u001b[0m \u001b[1m0s\u001b[0m 7ms/step - accuracy: 0.6317 - loss: 0.7704 - val_accuracy: 0.3625 - val_loss: 0.7642\n",
      "Epoch 7/50\n",
      "\u001b[1m10/10\u001b[0m \u001b[32m━━━━━━━━━━━━━━━━━━━━\u001b[0m\u001b[37m\u001b[0m \u001b[1m0s\u001b[0m 7ms/step - accuracy: 0.6605 - loss: 0.7199 - val_accuracy: 0.3625 - val_loss: 0.7758\n",
      "Epoch 8/50\n",
      "\u001b[1m10/10\u001b[0m \u001b[32m━━━━━━━━━━━━━━━━━━━━\u001b[0m\u001b[37m\u001b[0m \u001b[1m0s\u001b[0m 7ms/step - accuracy: 0.5997 - loss: 0.7916 - val_accuracy: 0.3625 - val_loss: 0.7881\n",
      "Epoch 9/50\n",
      "\u001b[1m10/10\u001b[0m \u001b[32m━━━━━━━━━━━━━━━━━━━━\u001b[0m\u001b[37m\u001b[0m \u001b[1m0s\u001b[0m 7ms/step - accuracy: 0.6585 - loss: 0.7386 - val_accuracy: 0.3625 - val_loss: 0.7965\n",
      "Epoch 10/50\n",
      "\u001b[1m10/10\u001b[0m \u001b[32m━━━━━━━━━━━━━━━━━━━━\u001b[0m\u001b[37m\u001b[0m \u001b[1m0s\u001b[0m 7ms/step - accuracy: 0.5801 - loss: 0.7937 - val_accuracy: 0.3625 - val_loss: 0.8045\n",
      "Epoch 11/50\n",
      "\u001b[1m10/10\u001b[0m \u001b[32m━━━━━━━━━━━━━━━━━━━━\u001b[0m\u001b[37m\u001b[0m \u001b[1m0s\u001b[0m 7ms/step - accuracy: 0.6552 - loss: 0.7136 - val_accuracy: 0.3625 - val_loss: 0.8133\n",
      "Epoch 12/50\n",
      "\u001b[1m10/10\u001b[0m \u001b[32m━━━━━━━━━━━━━━━━━━━━\u001b[0m\u001b[37m\u001b[0m \u001b[1m0s\u001b[0m 7ms/step - accuracy: 0.6238 - loss: 0.7516 - val_accuracy: 0.3625 - val_loss: 0.8273\n",
      "Epoch 13/50\n",
      "\u001b[1m10/10\u001b[0m \u001b[32m━━━━━━━━━━━━━━━━━━━━\u001b[0m\u001b[37m\u001b[0m \u001b[1m0s\u001b[0m 7ms/step - accuracy: 0.6120 - loss: 0.6542 - val_accuracy: 0.3625 - val_loss: 0.8389\n",
      "Epoch 14/50\n",
      "\u001b[1m10/10\u001b[0m \u001b[32m━━━━━━━━━━━━━━━━━━━━\u001b[0m\u001b[37m\u001b[0m \u001b[1m0s\u001b[0m 7ms/step - accuracy: 0.6916 - loss: 0.6528 - val_accuracy: 0.3625 - val_loss: 0.8475\n",
      "Epoch 15/50\n",
      "\u001b[1m10/10\u001b[0m \u001b[32m━━━━━━━━━━━━━━━━━━━━\u001b[0m\u001b[37m\u001b[0m \u001b[1m0s\u001b[0m 7ms/step - accuracy: 0.6885 - loss: 0.6432 - val_accuracy: 0.3625 - val_loss: 0.8516\n",
      "Epoch 16/50\n",
      "\u001b[1m10/10\u001b[0m \u001b[32m━━━━━━━━━━━━━━━━━━━━\u001b[0m\u001b[37m\u001b[0m \u001b[1m0s\u001b[0m 7ms/step - accuracy: 0.6536 - loss: 0.6841 - val_accuracy: 0.3625 - val_loss: 0.8556\n",
      "Epoch 17/50\n",
      "\u001b[1m10/10\u001b[0m \u001b[32m━━━━━━━━━━━━━━━━━━━━\u001b[0m\u001b[37m\u001b[0m \u001b[1m0s\u001b[0m 7ms/step - accuracy: 0.6394 - loss: 0.6260 - val_accuracy: 0.3625 - val_loss: 0.8638\n",
      "Epoch 18/50\n",
      "\u001b[1m10/10\u001b[0m \u001b[32m━━━━━━━━━━━━━━━━━━━━\u001b[0m\u001b[37m\u001b[0m \u001b[1m0s\u001b[0m 7ms/step - accuracy: 0.6351 - loss: 0.7169 - val_accuracy: 0.3625 - val_loss: 0.8684\n",
      "Epoch 19/50\n",
      "\u001b[1m10/10\u001b[0m \u001b[32m━━━━━━━━━━━━━━━━━━━━\u001b[0m\u001b[37m\u001b[0m \u001b[1m0s\u001b[0m 7ms/step - accuracy: 0.6455 - loss: 0.6605 - val_accuracy: 0.3625 - val_loss: 0.8628\n",
      "Epoch 20/50\n",
      "\u001b[1m10/10\u001b[0m \u001b[32m━━━━━━━━━━━━━━━━━━━━\u001b[0m\u001b[37m\u001b[0m \u001b[1m0s\u001b[0m 7ms/step - accuracy: 0.7234 - loss: 0.5812 - val_accuracy: 0.3750 - val_loss: 0.8555\n",
      "Epoch 21/50\n",
      "\u001b[1m10/10\u001b[0m \u001b[32m━━━━━━━━━━━━━━━━━━━━\u001b[0m\u001b[37m\u001b[0m \u001b[1m0s\u001b[0m 7ms/step - accuracy: 0.6492 - loss: 0.6904 - val_accuracy: 0.4000 - val_loss: 0.8481\n",
      "Epoch 22/50\n",
      "\u001b[1m10/10\u001b[0m \u001b[32m━━━━━━━━━━━━━━━━━━━━\u001b[0m\u001b[37m\u001b[0m \u001b[1m0s\u001b[0m 7ms/step - accuracy: 0.7124 - loss: 0.6212 - val_accuracy: 0.4000 - val_loss: 0.8421\n",
      "Epoch 23/50\n",
      "\u001b[1m10/10\u001b[0m \u001b[32m━━━━━━━━━━━━━━━━━━━━\u001b[0m\u001b[37m\u001b[0m \u001b[1m0s\u001b[0m 7ms/step - accuracy: 0.7070 - loss: 0.6441 - val_accuracy: 0.4000 - val_loss: 0.8354\n",
      "Epoch 24/50\n",
      "\u001b[1m10/10\u001b[0m \u001b[32m━━━━━━━━━━━━━━━━━━━━\u001b[0m\u001b[37m\u001b[0m \u001b[1m0s\u001b[0m 9ms/step - accuracy: 0.6191 - loss: 0.6522 - val_accuracy: 0.4000 - val_loss: 0.8128\n",
      "Epoch 25/50\n",
      "\u001b[1m10/10\u001b[0m \u001b[32m━━━━━━━━━━━━━━━━━━━━\u001b[0m\u001b[37m\u001b[0m \u001b[1m0s\u001b[0m 7ms/step - accuracy: 0.7482 - loss: 0.5770 - val_accuracy: 0.4125 - val_loss: 0.7984\n",
      "Epoch 26/50\n",
      "\u001b[1m10/10\u001b[0m \u001b[32m━━━━━━━━━━━━━━━━━━━━\u001b[0m\u001b[37m\u001b[0m \u001b[1m0s\u001b[0m 8ms/step - accuracy: 0.6991 - loss: 0.5467 - val_accuracy: 0.4250 - val_loss: 0.7841\n",
      "Epoch 27/50\n",
      "\u001b[1m10/10\u001b[0m \u001b[32m━━━━━━━━━━━━━━━━━━━━\u001b[0m\u001b[37m\u001b[0m \u001b[1m0s\u001b[0m 7ms/step - accuracy: 0.7459 - loss: 0.5781 - val_accuracy: 0.4250 - val_loss: 0.7694\n",
      "Epoch 28/50\n",
      "\u001b[1m10/10\u001b[0m \u001b[32m━━━━━━━━━━━━━━━━━━━━\u001b[0m\u001b[37m\u001b[0m \u001b[1m0s\u001b[0m 7ms/step - accuracy: 0.7242 - loss: 0.6424 - val_accuracy: 0.4250 - val_loss: 0.7540\n",
      "Epoch 29/50\n",
      "\u001b[1m10/10\u001b[0m \u001b[32m━━━━━━━━━━━━━━━━━━━━\u001b[0m\u001b[37m\u001b[0m \u001b[1m0s\u001b[0m 7ms/step - accuracy: 0.6977 - loss: 0.6119 - val_accuracy: 0.4500 - val_loss: 0.7373\n",
      "Epoch 30/50\n",
      "\u001b[1m10/10\u001b[0m \u001b[32m━━━━━━━━━━━━━━━━━━━━\u001b[0m\u001b[37m\u001b[0m \u001b[1m0s\u001b[0m 7ms/step - accuracy: 0.7429 - loss: 0.6091 - val_accuracy: 0.4750 - val_loss: 0.7201\n",
      "Epoch 31/50\n",
      "\u001b[1m10/10\u001b[0m \u001b[32m━━━━━━━━━━━━━━━━━━━━\u001b[0m\u001b[37m\u001b[0m \u001b[1m0s\u001b[0m 7ms/step - accuracy: 0.7607 - loss: 0.5889 - val_accuracy: 0.4875 - val_loss: 0.6986\n",
      "Epoch 32/50\n",
      "\u001b[1m10/10\u001b[0m \u001b[32m━━━━━━━━━━━━━━━━━━━━\u001b[0m\u001b[37m\u001b[0m \u001b[1m0s\u001b[0m 7ms/step - accuracy: 0.7448 - loss: 0.5370 - val_accuracy: 0.4875 - val_loss: 0.6932\n",
      "Epoch 33/50\n",
      "\u001b[1m10/10\u001b[0m \u001b[32m━━━━━━━━━━━━━━━━━━━━\u001b[0m\u001b[37m\u001b[0m \u001b[1m0s\u001b[0m 9ms/step - accuracy: 0.7664 - loss: 0.5767 - val_accuracy: 0.4875 - val_loss: 0.6866\n",
      "Epoch 34/50\n",
      "\u001b[1m10/10\u001b[0m \u001b[32m━━━━━━━━━━━━━━━━━━━━\u001b[0m\u001b[37m\u001b[0m \u001b[1m0s\u001b[0m 7ms/step - accuracy: 0.7316 - loss: 0.5769 - val_accuracy: 0.5125 - val_loss: 0.6724\n",
      "Epoch 35/50\n",
      "\u001b[1m10/10\u001b[0m \u001b[32m━━━━━━━━━━━━━━━━━━━━\u001b[0m\u001b[37m\u001b[0m \u001b[1m0s\u001b[0m 7ms/step - accuracy: 0.7722 - loss: 0.5322 - val_accuracy: 0.5250 - val_loss: 0.6645\n",
      "Epoch 36/50\n",
      "\u001b[1m10/10\u001b[0m \u001b[32m━━━━━━━━━━━━━━━━━━━━\u001b[0m\u001b[37m\u001b[0m \u001b[1m0s\u001b[0m 7ms/step - accuracy: 0.7428 - loss: 0.5833 - val_accuracy: 0.5250 - val_loss: 0.6631\n",
      "Epoch 37/50\n",
      "\u001b[1m10/10\u001b[0m \u001b[32m━━━━━━━━━━━━━━━━━━━━\u001b[0m\u001b[37m\u001b[0m \u001b[1m0s\u001b[0m 7ms/step - accuracy: 0.8100 - loss: 0.4991 - val_accuracy: 0.5250 - val_loss: 0.6650\n",
      "Epoch 38/50\n",
      "\u001b[1m10/10\u001b[0m \u001b[32m━━━━━━━━━━━━━━━━━━━━\u001b[0m\u001b[37m\u001b[0m \u001b[1m0s\u001b[0m 7ms/step - accuracy: 0.7602 - loss: 0.5533 - val_accuracy: 0.5250 - val_loss: 0.6581\n",
      "Epoch 39/50\n",
      "\u001b[1m10/10\u001b[0m \u001b[32m━━━━━━━━━━━━━━━━━━━━\u001b[0m\u001b[37m\u001b[0m \u001b[1m0s\u001b[0m 7ms/step - accuracy: 0.7345 - loss: 0.5927 - val_accuracy: 0.5375 - val_loss: 0.6391\n",
      "Epoch 40/50\n",
      "\u001b[1m10/10\u001b[0m \u001b[32m━━━━━━━━━━━━━━━━━━━━\u001b[0m\u001b[37m\u001b[0m \u001b[1m0s\u001b[0m 7ms/step - accuracy: 0.7701 - loss: 0.5101 - val_accuracy: 0.6000 - val_loss: 0.6200\n",
      "Epoch 41/50\n",
      "\u001b[1m10/10\u001b[0m \u001b[32m━━━━━━━━━━━━━━━━━━━━\u001b[0m\u001b[37m\u001b[0m \u001b[1m0s\u001b[0m 7ms/step - accuracy: 0.7683 - loss: 0.5222 - val_accuracy: 0.6250 - val_loss: 0.6063\n",
      "Epoch 42/50\n",
      "\u001b[1m10/10\u001b[0m \u001b[32m━━━━━━━━━━━━━━━━━━━━\u001b[0m\u001b[37m\u001b[0m \u001b[1m0s\u001b[0m 7ms/step - accuracy: 0.7387 - loss: 0.5549 - val_accuracy: 0.6375 - val_loss: 0.5925\n",
      "Epoch 43/50\n",
      "\u001b[1m10/10\u001b[0m \u001b[32m━━━━━━━━━━━━━━━━━━━━\u001b[0m\u001b[37m\u001b[0m \u001b[1m0s\u001b[0m 7ms/step - accuracy: 0.7569 - loss: 0.5267 - val_accuracy: 0.6500 - val_loss: 0.5860\n",
      "Epoch 44/50\n",
      "\u001b[1m10/10\u001b[0m \u001b[32m━━━━━━━━━━━━━━━━━━━━\u001b[0m\u001b[37m\u001b[0m \u001b[1m0s\u001b[0m 7ms/step - accuracy: 0.7938 - loss: 0.5203 - val_accuracy: 0.6750 - val_loss: 0.5768\n",
      "Epoch 45/50\n",
      "\u001b[1m10/10\u001b[0m \u001b[32m━━━━━━━━━━━━━━━━━━━━\u001b[0m\u001b[37m\u001b[0m \u001b[1m0s\u001b[0m 7ms/step - accuracy: 0.7668 - loss: 0.5319 - val_accuracy: 0.7250 - val_loss: 0.5528\n",
      "Epoch 46/50\n",
      "\u001b[1m10/10\u001b[0m \u001b[32m━━━━━━━━━━━━━━━━━━━━\u001b[0m\u001b[37m\u001b[0m \u001b[1m0s\u001b[0m 7ms/step - accuracy: 0.7516 - loss: 0.5123 - val_accuracy: 0.7625 - val_loss: 0.5349\n",
      "Epoch 47/50\n",
      "\u001b[1m10/10\u001b[0m \u001b[32m━━━━━━━━━━━━━━━━━━━━\u001b[0m\u001b[37m\u001b[0m \u001b[1m0s\u001b[0m 7ms/step - accuracy: 0.7662 - loss: 0.5455 - val_accuracy: 0.7625 - val_loss: 0.5231\n",
      "Epoch 48/50\n",
      "\u001b[1m10/10\u001b[0m \u001b[32m━━━━━━━━━━━━━━━━━━━━\u001b[0m\u001b[37m\u001b[0m \u001b[1m0s\u001b[0m 7ms/step - accuracy: 0.7470 - loss: 0.5621 - val_accuracy: 0.7750 - val_loss: 0.5179\n",
      "Epoch 49/50\n",
      "\u001b[1m10/10\u001b[0m \u001b[32m━━━━━━━━━━━━━━━━━━━━\u001b[0m\u001b[37m\u001b[0m \u001b[1m0s\u001b[0m 7ms/step - accuracy: 0.7265 - loss: 0.5498 - val_accuracy: 0.8000 - val_loss: 0.5093\n",
      "Epoch 50/50\n",
      "\u001b[1m10/10\u001b[0m \u001b[32m━━━━━━━━━━━━━━━━━━━━\u001b[0m\u001b[37m\u001b[0m \u001b[1m0s\u001b[0m 7ms/step - accuracy: 0.7504 - loss: 0.4910 - val_accuracy: 0.8250 - val_loss: 0.5050\n"
     ]
    }
   ],
   "source": [
    "history=model.fit(x,y,epochs=50,batch_size=32, validation_split=.20,verbose=1)\n",
    "#epochs=Eğitim verilerinin tamamının modele aktarıldığı ve ardından modelin güncellenmesi işleminin bir kez gerçekleştirildiği bir döngü olarak tanımlanabilir.\n",
    "#batch_size=Bir şeferde kaç tane satır alacağını ve hesaplayacağını şöylüyor\n",
    "#validation_split=train_test_split gibi\n",
    "#verbose=Modelin eğitimi sırasında konsola (veya diğer çıktı cihazlarına) yazdırılan bilgi miktarını kontrol eder."
   ]
  },
  {
   "cell_type": "code",
   "execution_count": 31,
   "id": "e0eac6ff",
   "metadata": {
    "colab": {
     "base_uri": "https://localhost:8080/",
     "height": 849
    },
    "execution": {
     "iopub.execute_input": "2024-08-15T09:52:40.141696Z",
     "iopub.status.busy": "2024-08-15T09:52:40.141250Z",
     "iopub.status.idle": "2024-08-15T09:52:40.182896Z",
     "shell.execute_reply": "2024-08-15T09:52:40.181816Z",
     "shell.execute_reply.started": "2024-08-15T09:52:40.141656Z"
    },
    "id": "3ec14421-d776-4a04-9de3-04416cab283a",
    "outputId": "d86b61ea-48a1-4691-fac0-c8a5ba0c60d7"
   },
   "outputs": [
    {
     "data": {
      "text/html": [
       "<pre style=\"white-space:pre;overflow-x:auto;line-height:normal;font-family:Menlo,'DejaVu Sans Mono',consolas,'Courier New',monospace\"><span style=\"font-weight: bold\">Model: \"sequential\"</span>\n",
       "</pre>\n"
      ],
      "text/plain": [
       "\u001b[1mModel: \"sequential\"\u001b[0m\n"
      ]
     },
     "metadata": {},
     "output_type": "display_data"
    },
    {
     "data": {
      "text/html": [
       "<pre style=\"white-space:pre;overflow-x:auto;line-height:normal;font-family:Menlo,'DejaVu Sans Mono',consolas,'Courier New',monospace\">┏━━━━━━━━━━━━━━━━━━━━━━━━━━━━━━━━━┳━━━━━━━━━━━━━━━━━━━━━━━━┳━━━━━━━━━━━━━━━┓\n",
       "┃<span style=\"font-weight: bold\"> Layer (type)                    </span>┃<span style=\"font-weight: bold\"> Output Shape           </span>┃<span style=\"font-weight: bold\">       Param # </span>┃\n",
       "┡━━━━━━━━━━━━━━━━━━━━━━━━━━━━━━━━━╇━━━━━━━━━━━━━━━━━━━━━━━━╇━━━━━━━━━━━━━━━┩\n",
       "│ dense (<span style=\"color: #0087ff; text-decoration-color: #0087ff\">Dense</span>)                   │ (<span style=\"color: #00d7ff; text-decoration-color: #00d7ff\">None</span>, <span style=\"color: #00af00; text-decoration-color: #00af00\">240</span>)            │           <span style=\"color: #00af00; text-decoration-color: #00af00\">720</span> │\n",
       "├─────────────────────────────────┼────────────────────────┼───────────────┤\n",
       "│ batch_normalization             │ (<span style=\"color: #00d7ff; text-decoration-color: #00d7ff\">None</span>, <span style=\"color: #00af00; text-decoration-color: #00af00\">240</span>)            │           <span style=\"color: #00af00; text-decoration-color: #00af00\">960</span> │\n",
       "│ (<span style=\"color: #0087ff; text-decoration-color: #0087ff\">BatchNormalization</span>)            │                        │               │\n",
       "├─────────────────────────────────┼────────────────────────┼───────────────┤\n",
       "│ dropout (<span style=\"color: #0087ff; text-decoration-color: #0087ff\">Dropout</span>)               │ (<span style=\"color: #00d7ff; text-decoration-color: #00d7ff\">None</span>, <span style=\"color: #00af00; text-decoration-color: #00af00\">240</span>)            │             <span style=\"color: #00af00; text-decoration-color: #00af00\">0</span> │\n",
       "├─────────────────────────────────┼────────────────────────┼───────────────┤\n",
       "│ dense_1 (<span style=\"color: #0087ff; text-decoration-color: #0087ff\">Dense</span>)                 │ (<span style=\"color: #00d7ff; text-decoration-color: #00d7ff\">None</span>, <span style=\"color: #00af00; text-decoration-color: #00af00\">120</span>)            │        <span style=\"color: #00af00; text-decoration-color: #00af00\">28,920</span> │\n",
       "├─────────────────────────────────┼────────────────────────┼───────────────┤\n",
       "│ batch_normalization_1           │ (<span style=\"color: #00d7ff; text-decoration-color: #00d7ff\">None</span>, <span style=\"color: #00af00; text-decoration-color: #00af00\">120</span>)            │           <span style=\"color: #00af00; text-decoration-color: #00af00\">480</span> │\n",
       "│ (<span style=\"color: #0087ff; text-decoration-color: #0087ff\">BatchNormalization</span>)            │                        │               │\n",
       "├─────────────────────────────────┼────────────────────────┼───────────────┤\n",
       "│ dropout_1 (<span style=\"color: #0087ff; text-decoration-color: #0087ff\">Dropout</span>)             │ (<span style=\"color: #00d7ff; text-decoration-color: #00d7ff\">None</span>, <span style=\"color: #00af00; text-decoration-color: #00af00\">120</span>)            │             <span style=\"color: #00af00; text-decoration-color: #00af00\">0</span> │\n",
       "├─────────────────────────────────┼────────────────────────┼───────────────┤\n",
       "│ dense_2 (<span style=\"color: #0087ff; text-decoration-color: #0087ff\">Dense</span>)                 │ (<span style=\"color: #00d7ff; text-decoration-color: #00d7ff\">None</span>, <span style=\"color: #00af00; text-decoration-color: #00af00\">64</span>)             │         <span style=\"color: #00af00; text-decoration-color: #00af00\">7,744</span> │\n",
       "├─────────────────────────────────┼────────────────────────┼───────────────┤\n",
       "│ batch_normalization_2           │ (<span style=\"color: #00d7ff; text-decoration-color: #00d7ff\">None</span>, <span style=\"color: #00af00; text-decoration-color: #00af00\">64</span>)             │           <span style=\"color: #00af00; text-decoration-color: #00af00\">256</span> │\n",
       "│ (<span style=\"color: #0087ff; text-decoration-color: #0087ff\">BatchNormalization</span>)            │                        │               │\n",
       "├─────────────────────────────────┼────────────────────────┼───────────────┤\n",
       "│ dropout_2 (<span style=\"color: #0087ff; text-decoration-color: #0087ff\">Dropout</span>)             │ (<span style=\"color: #00d7ff; text-decoration-color: #00d7ff\">None</span>, <span style=\"color: #00af00; text-decoration-color: #00af00\">64</span>)             │             <span style=\"color: #00af00; text-decoration-color: #00af00\">0</span> │\n",
       "├─────────────────────────────────┼────────────────────────┼───────────────┤\n",
       "│ dense_3 (<span style=\"color: #0087ff; text-decoration-color: #0087ff\">Dense</span>)                 │ (<span style=\"color: #00d7ff; text-decoration-color: #00d7ff\">None</span>, <span style=\"color: #00af00; text-decoration-color: #00af00\">24</span>)             │         <span style=\"color: #00af00; text-decoration-color: #00af00\">1,560</span> │\n",
       "├─────────────────────────────────┼────────────────────────┼───────────────┤\n",
       "│ batch_normalization_3           │ (<span style=\"color: #00d7ff; text-decoration-color: #00d7ff\">None</span>, <span style=\"color: #00af00; text-decoration-color: #00af00\">24</span>)             │            <span style=\"color: #00af00; text-decoration-color: #00af00\">96</span> │\n",
       "│ (<span style=\"color: #0087ff; text-decoration-color: #0087ff\">BatchNormalization</span>)            │                        │               │\n",
       "├─────────────────────────────────┼────────────────────────┼───────────────┤\n",
       "│ dropout_3 (<span style=\"color: #0087ff; text-decoration-color: #0087ff\">Dropout</span>)             │ (<span style=\"color: #00d7ff; text-decoration-color: #00d7ff\">None</span>, <span style=\"color: #00af00; text-decoration-color: #00af00\">24</span>)             │             <span style=\"color: #00af00; text-decoration-color: #00af00\">0</span> │\n",
       "├─────────────────────────────────┼────────────────────────┼───────────────┤\n",
       "│ dense_4 (<span style=\"color: #0087ff; text-decoration-color: #0087ff\">Dense</span>)                 │ (<span style=\"color: #00d7ff; text-decoration-color: #00d7ff\">None</span>, <span style=\"color: #00af00; text-decoration-color: #00af00\">12</span>)             │           <span style=\"color: #00af00; text-decoration-color: #00af00\">300</span> │\n",
       "├─────────────────────────────────┼────────────────────────┼───────────────┤\n",
       "│ batch_normalization_4           │ (<span style=\"color: #00d7ff; text-decoration-color: #00d7ff\">None</span>, <span style=\"color: #00af00; text-decoration-color: #00af00\">12</span>)             │            <span style=\"color: #00af00; text-decoration-color: #00af00\">48</span> │\n",
       "│ (<span style=\"color: #0087ff; text-decoration-color: #0087ff\">BatchNormalization</span>)            │                        │               │\n",
       "├─────────────────────────────────┼────────────────────────┼───────────────┤\n",
       "│ dropout_4 (<span style=\"color: #0087ff; text-decoration-color: #0087ff\">Dropout</span>)             │ (<span style=\"color: #00d7ff; text-decoration-color: #00d7ff\">None</span>, <span style=\"color: #00af00; text-decoration-color: #00af00\">12</span>)             │             <span style=\"color: #00af00; text-decoration-color: #00af00\">0</span> │\n",
       "├─────────────────────────────────┼────────────────────────┼───────────────┤\n",
       "│ dense_5 (<span style=\"color: #0087ff; text-decoration-color: #0087ff\">Dense</span>)                 │ (<span style=\"color: #00d7ff; text-decoration-color: #00d7ff\">None</span>, <span style=\"color: #00af00; text-decoration-color: #00af00\">2</span>)              │            <span style=\"color: #00af00; text-decoration-color: #00af00\">26</span> │\n",
       "├─────────────────────────────────┼────────────────────────┼───────────────┤\n",
       "│ batch_normalization_5           │ (<span style=\"color: #00d7ff; text-decoration-color: #00d7ff\">None</span>, <span style=\"color: #00af00; text-decoration-color: #00af00\">2</span>)              │             <span style=\"color: #00af00; text-decoration-color: #00af00\">8</span> │\n",
       "│ (<span style=\"color: #0087ff; text-decoration-color: #0087ff\">BatchNormalization</span>)            │                        │               │\n",
       "├─────────────────────────────────┼────────────────────────┼───────────────┤\n",
       "│ dropout_5 (<span style=\"color: #0087ff; text-decoration-color: #0087ff\">Dropout</span>)             │ (<span style=\"color: #00d7ff; text-decoration-color: #00d7ff\">None</span>, <span style=\"color: #00af00; text-decoration-color: #00af00\">2</span>)              │             <span style=\"color: #00af00; text-decoration-color: #00af00\">0</span> │\n",
       "├─────────────────────────────────┼────────────────────────┼───────────────┤\n",
       "│ dense_6 (<span style=\"color: #0087ff; text-decoration-color: #0087ff\">Dense</span>)                 │ (<span style=\"color: #00d7ff; text-decoration-color: #00d7ff\">None</span>, <span style=\"color: #00af00; text-decoration-color: #00af00\">1</span>)              │             <span style=\"color: #00af00; text-decoration-color: #00af00\">3</span> │\n",
       "└─────────────────────────────────┴────────────────────────┴───────────────┘\n",
       "</pre>\n"
      ],
      "text/plain": [
       "┏━━━━━━━━━━━━━━━━━━━━━━━━━━━━━━━━━┳━━━━━━━━━━━━━━━━━━━━━━━━┳━━━━━━━━━━━━━━━┓\n",
       "┃\u001b[1m \u001b[0m\u001b[1mLayer (type)                   \u001b[0m\u001b[1m \u001b[0m┃\u001b[1m \u001b[0m\u001b[1mOutput Shape          \u001b[0m\u001b[1m \u001b[0m┃\u001b[1m \u001b[0m\u001b[1m      Param #\u001b[0m\u001b[1m \u001b[0m┃\n",
       "┡━━━━━━━━━━━━━━━━━━━━━━━━━━━━━━━━━╇━━━━━━━━━━━━━━━━━━━━━━━━╇━━━━━━━━━━━━━━━┩\n",
       "│ dense (\u001b[38;5;33mDense\u001b[0m)                   │ (\u001b[38;5;45mNone\u001b[0m, \u001b[38;5;34m240\u001b[0m)            │           \u001b[38;5;34m720\u001b[0m │\n",
       "├─────────────────────────────────┼────────────────────────┼───────────────┤\n",
       "│ batch_normalization             │ (\u001b[38;5;45mNone\u001b[0m, \u001b[38;5;34m240\u001b[0m)            │           \u001b[38;5;34m960\u001b[0m │\n",
       "│ (\u001b[38;5;33mBatchNormalization\u001b[0m)            │                        │               │\n",
       "├─────────────────────────────────┼────────────────────────┼───────────────┤\n",
       "│ dropout (\u001b[38;5;33mDropout\u001b[0m)               │ (\u001b[38;5;45mNone\u001b[0m, \u001b[38;5;34m240\u001b[0m)            │             \u001b[38;5;34m0\u001b[0m │\n",
       "├─────────────────────────────────┼────────────────────────┼───────────────┤\n",
       "│ dense_1 (\u001b[38;5;33mDense\u001b[0m)                 │ (\u001b[38;5;45mNone\u001b[0m, \u001b[38;5;34m120\u001b[0m)            │        \u001b[38;5;34m28,920\u001b[0m │\n",
       "├─────────────────────────────────┼────────────────────────┼───────────────┤\n",
       "│ batch_normalization_1           │ (\u001b[38;5;45mNone\u001b[0m, \u001b[38;5;34m120\u001b[0m)            │           \u001b[38;5;34m480\u001b[0m │\n",
       "│ (\u001b[38;5;33mBatchNormalization\u001b[0m)            │                        │               │\n",
       "├─────────────────────────────────┼────────────────────────┼───────────────┤\n",
       "│ dropout_1 (\u001b[38;5;33mDropout\u001b[0m)             │ (\u001b[38;5;45mNone\u001b[0m, \u001b[38;5;34m120\u001b[0m)            │             \u001b[38;5;34m0\u001b[0m │\n",
       "├─────────────────────────────────┼────────────────────────┼───────────────┤\n",
       "│ dense_2 (\u001b[38;5;33mDense\u001b[0m)                 │ (\u001b[38;5;45mNone\u001b[0m, \u001b[38;5;34m64\u001b[0m)             │         \u001b[38;5;34m7,744\u001b[0m │\n",
       "├─────────────────────────────────┼────────────────────────┼───────────────┤\n",
       "│ batch_normalization_2           │ (\u001b[38;5;45mNone\u001b[0m, \u001b[38;5;34m64\u001b[0m)             │           \u001b[38;5;34m256\u001b[0m │\n",
       "│ (\u001b[38;5;33mBatchNormalization\u001b[0m)            │                        │               │\n",
       "├─────────────────────────────────┼────────────────────────┼───────────────┤\n",
       "│ dropout_2 (\u001b[38;5;33mDropout\u001b[0m)             │ (\u001b[38;5;45mNone\u001b[0m, \u001b[38;5;34m64\u001b[0m)             │             \u001b[38;5;34m0\u001b[0m │\n",
       "├─────────────────────────────────┼────────────────────────┼───────────────┤\n",
       "│ dense_3 (\u001b[38;5;33mDense\u001b[0m)                 │ (\u001b[38;5;45mNone\u001b[0m, \u001b[38;5;34m24\u001b[0m)             │         \u001b[38;5;34m1,560\u001b[0m │\n",
       "├─────────────────────────────────┼────────────────────────┼───────────────┤\n",
       "│ batch_normalization_3           │ (\u001b[38;5;45mNone\u001b[0m, \u001b[38;5;34m24\u001b[0m)             │            \u001b[38;5;34m96\u001b[0m │\n",
       "│ (\u001b[38;5;33mBatchNormalization\u001b[0m)            │                        │               │\n",
       "├─────────────────────────────────┼────────────────────────┼───────────────┤\n",
       "│ dropout_3 (\u001b[38;5;33mDropout\u001b[0m)             │ (\u001b[38;5;45mNone\u001b[0m, \u001b[38;5;34m24\u001b[0m)             │             \u001b[38;5;34m0\u001b[0m │\n",
       "├─────────────────────────────────┼────────────────────────┼───────────────┤\n",
       "│ dense_4 (\u001b[38;5;33mDense\u001b[0m)                 │ (\u001b[38;5;45mNone\u001b[0m, \u001b[38;5;34m12\u001b[0m)             │           \u001b[38;5;34m300\u001b[0m │\n",
       "├─────────────────────────────────┼────────────────────────┼───────────────┤\n",
       "│ batch_normalization_4           │ (\u001b[38;5;45mNone\u001b[0m, \u001b[38;5;34m12\u001b[0m)             │            \u001b[38;5;34m48\u001b[0m │\n",
       "│ (\u001b[38;5;33mBatchNormalization\u001b[0m)            │                        │               │\n",
       "├─────────────────────────────────┼────────────────────────┼───────────────┤\n",
       "│ dropout_4 (\u001b[38;5;33mDropout\u001b[0m)             │ (\u001b[38;5;45mNone\u001b[0m, \u001b[38;5;34m12\u001b[0m)             │             \u001b[38;5;34m0\u001b[0m │\n",
       "├─────────────────────────────────┼────────────────────────┼───────────────┤\n",
       "│ dense_5 (\u001b[38;5;33mDense\u001b[0m)                 │ (\u001b[38;5;45mNone\u001b[0m, \u001b[38;5;34m2\u001b[0m)              │            \u001b[38;5;34m26\u001b[0m │\n",
       "├─────────────────────────────────┼────────────────────────┼───────────────┤\n",
       "│ batch_normalization_5           │ (\u001b[38;5;45mNone\u001b[0m, \u001b[38;5;34m2\u001b[0m)              │             \u001b[38;5;34m8\u001b[0m │\n",
       "│ (\u001b[38;5;33mBatchNormalization\u001b[0m)            │                        │               │\n",
       "├─────────────────────────────────┼────────────────────────┼───────────────┤\n",
       "│ dropout_5 (\u001b[38;5;33mDropout\u001b[0m)             │ (\u001b[38;5;45mNone\u001b[0m, \u001b[38;5;34m2\u001b[0m)              │             \u001b[38;5;34m0\u001b[0m │\n",
       "├─────────────────────────────────┼────────────────────────┼───────────────┤\n",
       "│ dense_6 (\u001b[38;5;33mDense\u001b[0m)                 │ (\u001b[38;5;45mNone\u001b[0m, \u001b[38;5;34m1\u001b[0m)              │             \u001b[38;5;34m3\u001b[0m │\n",
       "└─────────────────────────────────┴────────────────────────┴───────────────┘\n"
      ]
     },
     "metadata": {},
     "output_type": "display_data"
    },
    {
     "data": {
      "text/html": [
       "<pre style=\"white-space:pre;overflow-x:auto;line-height:normal;font-family:Menlo,'DejaVu Sans Mono',consolas,'Courier New',monospace\"><span style=\"font-weight: bold\"> Total params: </span><span style=\"color: #00af00; text-decoration-color: #00af00\">121,517</span> (474.68 KB)\n",
       "</pre>\n"
      ],
      "text/plain": [
       "\u001b[1m Total params: \u001b[0m\u001b[38;5;34m121,517\u001b[0m (474.68 KB)\n"
      ]
     },
     "metadata": {},
     "output_type": "display_data"
    },
    {
     "data": {
      "text/html": [
       "<pre style=\"white-space:pre;overflow-x:auto;line-height:normal;font-family:Menlo,'DejaVu Sans Mono',consolas,'Courier New',monospace\"><span style=\"font-weight: bold\"> Trainable params: </span><span style=\"color: #00af00; text-decoration-color: #00af00\">40,197</span> (157.02 KB)\n",
       "</pre>\n"
      ],
      "text/plain": [
       "\u001b[1m Trainable params: \u001b[0m\u001b[38;5;34m40,197\u001b[0m (157.02 KB)\n"
      ]
     },
     "metadata": {},
     "output_type": "display_data"
    },
    {
     "data": {
      "text/html": [
       "<pre style=\"white-space:pre;overflow-x:auto;line-height:normal;font-family:Menlo,'DejaVu Sans Mono',consolas,'Courier New',monospace\"><span style=\"font-weight: bold\"> Non-trainable params: </span><span style=\"color: #00af00; text-decoration-color: #00af00\">924</span> (3.61 KB)\n",
       "</pre>\n"
      ],
      "text/plain": [
       "\u001b[1m Non-trainable params: \u001b[0m\u001b[38;5;34m924\u001b[0m (3.61 KB)\n"
      ]
     },
     "metadata": {},
     "output_type": "display_data"
    },
    {
     "data": {
      "text/html": [
       "<pre style=\"white-space:pre;overflow-x:auto;line-height:normal;font-family:Menlo,'DejaVu Sans Mono',consolas,'Courier New',monospace\"><span style=\"font-weight: bold\"> Optimizer params: </span><span style=\"color: #00af00; text-decoration-color: #00af00\">80,396</span> (314.05 KB)\n",
       "</pre>\n"
      ],
      "text/plain": [
       "\u001b[1m Optimizer params: \u001b[0m\u001b[38;5;34m80,396\u001b[0m (314.05 KB)\n"
      ]
     },
     "metadata": {},
     "output_type": "display_data"
    }
   ],
   "source": [
    "model.summary()"
   ]
  },
  {
   "cell_type": "code",
   "execution_count": 32,
   "id": "258003aa",
   "metadata": {
    "colab": {
     "base_uri": "https://localhost:8080/"
    },
    "execution": {
     "iopub.execute_input": "2024-08-15T09:52:40.184673Z",
     "iopub.status.busy": "2024-08-15T09:52:40.184269Z",
     "iopub.status.idle": "2024-08-15T09:52:40.278499Z",
     "shell.execute_reply": "2024-08-15T09:52:40.277490Z",
     "shell.execute_reply.started": "2024-08-15T09:52:40.184636Z"
    },
    "id": "022faf25-24e0-4451-8f84-0ff8146f37a2",
    "outputId": "3a723b2e-a348-40db-ec2a-a1966d6e0f25"
   },
   "outputs": [
    {
     "name": "stdout",
     "output_type": "stream",
     "text": [
      "\u001b[1m3/3\u001b[0m \u001b[32m━━━━━━━━━━━━━━━━━━━━\u001b[0m\u001b[37m\u001b[0m \u001b[1m0s\u001b[0m 3ms/step - accuracy: 0.9430 - loss: 0.3958 \n",
      "Test doğruluğu: 0.9250\n"
     ]
    }
   ],
   "source": [
    "test_loss, test_acc = model.evaluate(x_test, y_test)\n",
    "# TR = test_loss değişkeni, test verileri üzerinde hesaplanan kayıp değerini içerir. test_acc değişkeni, test verileri üzerinde hesaplanan doğruluk değerini içerir.\n",
    "# EN = The test_loss variable contains the loss value calculated on the test data. The test_acc variable contains the accuracy value calculated on the test data.\n",
    "\n",
    "print(f\"Test doğruluğu: {test_acc:.4f}\")"
   ]
  },
  {
   "cell_type": "code",
   "execution_count": 33,
   "id": "01026be9",
   "metadata": {
    "colab": {
     "base_uri": "https://localhost:8080/"
    },
    "execution": {
     "iopub.execute_input": "2024-08-15T09:52:40.281069Z",
     "iopub.status.busy": "2024-08-15T09:52:40.280729Z",
     "iopub.status.idle": "2024-08-15T09:52:40.704442Z",
     "shell.execute_reply": "2024-08-15T09:52:40.703077Z",
     "shell.execute_reply.started": "2024-08-15T09:52:40.281040Z"
    },
    "id": "b1f3f157-27ea-4f7d-bce9-cf32686707f3",
    "outputId": "04828436-d4a6-45a5-8430-86a47ce4c575"
   },
   "outputs": [
    {
     "name": "stdout",
     "output_type": "stream",
     "text": [
      "\u001b[1m3/3\u001b[0m \u001b[32m━━━━━━━━━━━━━━━━━━━━\u001b[0m\u001b[37m\u001b[0m \u001b[1m0s\u001b[0m 86ms/step\n"
     ]
    }
   ],
   "source": [
    "pred=model.predict(x_test)\n",
    "# TR = modeli x_test ile predict özelliği ile tahmin ettik. predict=tahmin demek. Dahmin edip pred eşitledik.\n",
    "# EN = We predicted the model with x_test and the predict feature. predict=means prediction. We guessed and equalized the pred."
   ]
  },
  {
   "cell_type": "code",
   "execution_count": 34,
   "id": "006a5395",
   "metadata": {
    "execution": {
     "iopub.execute_input": "2024-08-15T09:52:40.706625Z",
     "iopub.status.busy": "2024-08-15T09:52:40.706236Z",
     "iopub.status.idle": "2024-08-15T09:52:40.712242Z",
     "shell.execute_reply": "2024-08-15T09:52:40.710854Z",
     "shell.execute_reply.started": "2024-08-15T09:52:40.706591Z"
    },
    "id": "_p4OMutsKtE2"
   },
   "outputs": [],
   "source": [
    "pred = (pred > 0.5).astype(int)"
   ]
  },
  {
   "cell_type": "code",
   "execution_count": 35,
   "id": "ab2ac68d",
   "metadata": {
    "colab": {
     "base_uri": "https://localhost:8080/"
    },
    "execution": {
     "iopub.execute_input": "2024-08-15T09:52:40.714319Z",
     "iopub.status.busy": "2024-08-15T09:52:40.713875Z",
     "iopub.status.idle": "2024-08-15T09:52:40.728401Z",
     "shell.execute_reply": "2024-08-15T09:52:40.727264Z",
     "shell.execute_reply.started": "2024-08-15T09:52:40.714279Z"
    },
    "id": "a190152b-ba87-46d2-a6f8-bfc672987e8e",
    "outputId": "7cfb48bc-d2ca-4f57-9022-6bbc5207abb6"
   },
   "outputs": [
    {
     "data": {
      "text/plain": [
       "0.925"
      ]
     },
     "execution_count": 35,
     "metadata": {},
     "output_type": "execute_result"
    }
   ],
   "source": [
    "accuracy_score(y_test, pred)\n",
    "# TR = accuracy_score fonksiyonu ile y_test, pred kullanarak sonucumuzu bulduk.\n",
    "# EN = We found our result using the accuracy_score function and y_test, pred."
   ]
  },
  {
   "cell_type": "code",
   "execution_count": 36,
   "id": "724cc208",
   "metadata": {
    "colab": {
     "base_uri": "https://localhost:8080/"
    },
    "execution": {
     "iopub.execute_input": "2024-08-15T09:52:40.730318Z",
     "iopub.status.busy": "2024-08-15T09:52:40.729875Z",
     "iopub.status.idle": "2024-08-15T09:52:40.742254Z",
     "shell.execute_reply": "2024-08-15T09:52:40.741242Z",
     "shell.execute_reply.started": "2024-08-15T09:52:40.730275Z"
    },
    "id": "ad206885-44ae-41e6-9284-38ff1abf265d",
    "outputId": "d7ae500b-9d8d-44eb-89ac-9253c1c29854"
   },
   "outputs": [
    {
     "data": {
      "text/plain": [
       "array([[52,  0],\n",
       "       [ 6, 22]])"
      ]
     },
     "execution_count": 36,
     "metadata": {},
     "output_type": "execute_result"
    }
   ],
   "source": [
    "confusion_matrix(y_test, pred)\n",
    "# TR = confusion_matrix fonksiyonu ile y_test, pred kullanarak ne kadarını yanlış tahmin ettiğimizi buluyoruz\n",
    "# EN = Using the confusion_matrix function and y_test, pred, we find out how much we guessed wrong.\n",
    "\n",
    "# TR = 4 sayı değeri veriyor bize. Sol üst ve sağ alt doğru tahmin, sağ üst ve sol alt yanlış tahmin.\n",
    "# EN = It gives us 4 number values. Upper left and lower right are correct guesses, upper right and lower left are incorrect guesses."
   ]
  },
  {
   "cell_type": "code",
   "execution_count": 37,
   "id": "f524adfb",
   "metadata": {
    "colab": {
     "base_uri": "https://localhost:8080/",
     "height": 484
    },
    "execution": {
     "iopub.execute_input": "2024-08-15T09:52:40.743919Z",
     "iopub.status.busy": "2024-08-15T09:52:40.743515Z",
     "iopub.status.idle": "2024-08-15T09:52:40.988400Z",
     "shell.execute_reply": "2024-08-15T09:52:40.987205Z",
     "shell.execute_reply.started": "2024-08-15T09:52:40.743886Z"
    },
    "id": "8214c67f-3381-4b28-bdf3-384ecacdfbc6",
    "outputId": "b9db3e5e-2307-4535-8a1a-93db3f21dfa4"
   },
   "outputs": [
    {
     "data": {
      "image/png": "[encoded data removed]",
      "text/plain": [
       "<Figure size 800x550 with 2 Axes>"
      ]
     },
     "metadata": {},
     "output_type": "display_data"
    }
   ],
   "source": [
    "sns.heatmap(confusion_matrix(y_test, pred),annot=True);\n",
    "# TR = Yukarıdakinin görsel versiyonu.\n",
    "# EN = Visual version of the above."
   ]
  },
  {
   "cell_type": "code",
   "execution_count": 38,
   "id": "911697d5",
   "metadata": {
    "colab": {
     "base_uri": "https://localhost:8080/"
    },
    "execution": {
     "iopub.execute_input": "2024-08-15T09:52:40.990464Z",
     "iopub.status.busy": "2024-08-15T09:52:40.990085Z",
     "iopub.status.idle": "2024-08-15T09:52:41.009364Z",
     "shell.execute_reply": "2024-08-15T09:52:41.008120Z",
     "shell.execute_reply.started": "2024-08-15T09:52:40.990432Z"
    },
    "id": "cd2f359d-9f88-4375-bfa6-3501963007bc",
    "outputId": "a596d21d-054d-4196-f059-272605b43c25"
   },
   "outputs": [
    {
     "name": "stdout",
     "output_type": "stream",
     "text": [
      "              precision    recall  f1-score   support\n",
      "\n",
      "           0       0.90      1.00      0.95        52\n",
      "           1       1.00      0.79      0.88        28\n",
      "\n",
      "    accuracy                           0.93        80\n",
      "   macro avg       0.95      0.89      0.91        80\n",
      "weighted avg       0.93      0.93      0.92        80\n",
      "\n"
     ]
    }
   ],
   "source": [
    "print(classification_report(y_test, pred))\n",
    "# TR = print içinde yazdık yoksa sayıların sıralanması bozuluyor.\n",
    "# EN = We wrote it in print, otherwise the order of the numbers will be disrupted.\n",
    "\n",
    "# TR = classification_report ile y_test, pred kullanarak precision, recall, f1-score ve support ulaştık.\n",
    "# EN = We achieved precision, recall, f1-score and support using classification_report and y_test, pred.\n",
    "\n",
    "# TR = Precision (Kesinlik): Doğru olarak pozitif tahmin edilen örneklerin, toplam pozitif tahmin edilen örnekler içindeki oranını gösterir. Yani, modelin pozitif sınıfı ne kadar doğru tahmin ettiğini ölçer.\n",
    "# EN = Precision (Precision): It shows the ratio of correctly predicted positive samples among the total positive predicted samples. That is, it measures how accurately the model predicts the positive class.\n",
    "\n",
    "# TR = Recall (Duyarlılık): Gerçek pozitif örneklerin, toplam pozitif örnekler içindeki oranını gösterir. Modelin pozitif sınıfı ne kadar iyi bulduğunu ölçer.\n",
    "# EN = Recall (Sensitivity): Shows the ratio of true positive samples in total positive samples. It measures how well the model finds the positive class.\n",
    "\n",
    "# TR = F1-score: Precision ve recall'un harmonik ortalamasıdır. Hem precision hem de recall'u dikkate alarak modelin genel performansını özetler.\n",
    "# EN = F1-score: It is the harmonic mean of precision and recall. It summarizes the overall performance of the model, taking into account both precision and recall.\n",
    "\n",
    "# TR = Support: Her sınıftan kaç örneğin bulunduğunu gösterir. Yani, gerçek etiketlerde her bir sınıfa ait kaç örnek olduğunu ifade eder.\n",
    "# EN = Support: Shows how many examples of each class are available. That is, it expresses how many examples of each class there are in the real labels."
   ]
  },
  {
   "cell_type": "code",
   "execution_count": 39,
   "id": "76e8dce5",
   "metadata": {
    "colab": {
     "base_uri": "https://localhost:8080/",
     "height": 484
    },
    "execution": {
     "iopub.execute_input": "2024-08-15T09:52:41.012703Z",
     "iopub.status.busy": "2024-08-15T09:52:41.012331Z",
     "iopub.status.idle": "2024-08-15T09:52:41.294784Z",
     "shell.execute_reply": "2024-08-15T09:52:41.293671Z",
     "shell.execute_reply.started": "2024-08-15T09:52:41.012673Z"
    },
    "id": "27503a92-b051-482f-b82d-0fa0867a9fc6",
    "outputId": "cc511381-1dab-4510-93a1-598300b024eb"
   },
   "outputs": [
    {
     "data": {
      "image/png": "[encoded data removed]",
      "text/plain": [
       "<Figure size 800x550 with 1 Axes>"
      ]
     },
     "metadata": {},
     "output_type": "display_data"
    }
   ],
   "source": [
    "plt.plot(history.history['accuracy'],label='Accuracy')\n",
    "plt.plot(history.history['val_accuracy'],label='Val_Accuracy')\n",
    "plt.legend();"
   ]
  },
  {
   "cell_type": "code",
   "execution_count": null,
   "id": "63e9ed7f",
   "metadata": {
    "id": "z2cz45OHKWuD"
   },
   "outputs": [],
   "source": []
  }
 ],
 "metadata": {
  "colab": {
   "provenance": []
  },
  "kaggle": {
   "accelerator": "none",
   "dataSources": [],
   "dockerImageVersionId": 30746,
   "isGpuEnabled": false,
   "isInternetEnabled": true,
   "language": "python",
   "sourceType": "notebook"
  },
  "kernelspec": {
   "display_name": "Python 3 (ipykernel)",
   "language": "python",
   "name": "python3"
  },
  "language_info": {
   "codemirror_mode": {
    "name": "ipython",
    "version": 3
   },
   "file_extension": ".py",
   "mimetype": "text/x-python",
   "name": "python",
   "nbconvert_exporter": "python",
   "pygments_lexer": "ipython3",
   "version": "3.12.4"
  },
  "widgets": {
   "application/vnd.jupyter.widget-state+json": {
    "0223239234e04f02a10f3a66a593f2f9": {
     "model_module": "@jupyter-widgets/controls",
     "model_module_version": "1.5.0",
     "model_name": "FloatProgressModel",
     "state": {
      "_dom_classes": [],
      "_model_module": "@jupyter-widgets/controls",
      "_model_module_version": "1.5.0",
      "_model_name": "FloatProgressModel",
      "_view_count": null,
      "_view_module": "@jupyter-widgets/controls",
      "_view_module_version": "1.5.0",
      "_view_name": "ProgressView",
      "bar_style": "",
      "description": "",
      "description_tooltip": null,
      "layout": "IPY_MODEL_1c447ad809d64ff7b9baabf7af649ec5",
      "max": 65,
      "min": 0,
      "orientation": "horizontal",
      "style": "IPY_MODEL_4e5f48a0cac7434c9fd51403e4bf47ea",
      "value": 65
     }
    },
    "0b058d02c3cb4183b222dc2ef043664c": {
     "model_module": "@jupyter-widgets/controls",
     "model_module_version": "1.5.0",
     "model_name": "HBoxModel",
     "state": {
      "_dom_classes": [],
      "_model_module": "@jupyter-widgets/controls",
      "_model_module_version": "1.5.0",
      "_model_name": "HBoxModel",
      "_view_count": null,
      "_view_module": "@jupyter-widgets/controls",
      "_view_module_version": "1.5.0",
      "_view_name": "HBoxView",
      "box_style": "",
      "children": [
       "IPY_MODEL_371a73c112a8407eb1ba293be80f4dff",
       "IPY_MODEL_0223239234e04f02a10f3a66a593f2f9",
       "IPY_MODEL_d451da093ef54e7e8c8876e5faa68d91"
      ],
      "layout": "IPY_MODEL_396b0ba380f642ffa39092d8c89d55a1"
     }
    },
    "1c447ad809d64ff7b9baabf7af649ec5": {
     "model_module": "@jupyter-widgets/base",
     "model_module_version": "1.2.0",
     "model_name": "LayoutModel",
     "state": {
      "_model_module": "@jupyter-widgets/base",
      "_model_module_version": "1.2.0",
      "_model_name": "LayoutModel",
      "_view_count": null,
      "_view_module": "@jupyter-widgets/base",
      "_view_module_version": "1.2.0",
      "_view_name": "LayoutView",
      "align_content": null,
      "align_items": null,
      "align_self": null,
      "border": null,
      "bottom": null,
      "display": null,
      "flex": null,
      "flex_flow": null,
      "grid_area": null,
      "grid_auto_columns": null,
      "grid_auto_flow": null,
      "grid_auto_rows": null,
      "grid_column": null,
      "grid_gap": null,
      "grid_row": null,
      "grid_template_areas": null,
      "grid_template_columns": null,
      "grid_template_rows": null,
      "height": null,
      "justify_content": null,
      "justify_items": null,
      "left": null,
      "margin": null,
      "max_height": null,
      "max_width": null,
      "min_height": null,
      "min_width": null,
      "object_fit": null,
      "object_position": null,
      "order": null,
      "overflow": null,
      "overflow_x": null,
      "overflow_y": null,
      "padding": null,
      "right": null,
      "top": null,
      "visibility": null,
      "width": null
     }
    },
    "371a73c112a8407eb1ba293be80f4dff": {
     "model_module": "@jupyter-widgets/controls",
     "model_module_version": "1.5.0",
     "model_name": "HTMLModel",
     "state": {
      "_dom_classes": [],
      "_model_module": "@jupyter-widgets/controls",
      "_model_module_version": "1.5.0",
      "_model_name": "HTMLModel",
      "_view_count": null,
      "_view_module": "@jupyter-widgets/controls",
      "_view_module_version": "1.5.0",
      "_view_name": "HTMLView",
      "description": "",
      "description_tooltip": null,
      "layout": "IPY_MODEL_8f32fbbf59ae4bbd90e15afdedbb93d8",
      "placeholder": "​",
      "style": "IPY_MODEL_3c3acec9ad8543ca81d102f7c9e13f23",
      "value": "Processing: 100%"
     }
    },
    "396b0ba380f642ffa39092d8c89d55a1": {
     "model_module": "@jupyter-widgets/base",
     "model_module_version": "1.2.0",
     "model_name": "LayoutModel",
     "state": {
      "_model_module": "@jupyter-widgets/base",
      "_model_module_version": "1.2.0",
      "_model_name": "LayoutModel",
      "_view_count": null,
      "_view_module": "@jupyter-widgets/base",
      "_view_module_version": "1.2.0",
      "_view_name": "LayoutView",
      "align_content": null,
      "align_items": null,
      "align_self": null,
      "border": null,
      "bottom": null,
      "display": null,
      "flex": null,
      "flex_flow": null,
      "grid_area": null,
      "grid_auto_columns": null,
      "grid_auto_flow": null,
      "grid_auto_rows": null,
      "grid_column": null,
      "grid_gap": null,
      "grid_row": null,
      "grid_template_areas": null,
      "grid_template_columns": null,
      "grid_template_rows": null,
      "height": null,
      "justify_content": null,
      "justify_items": null,
      "left": null,
      "margin": null,
      "max_height": null,
      "max_width": null,
      "min_height": null,
      "min_width": null,
      "object_fit": null,
      "object_position": null,
      "order": null,
      "overflow": null,
      "overflow_x": null,
      "overflow_y": null,
      "padding": null,
      "right": null,
      "top": null,
      "visibility": "hidden",
      "width": null
     }
    },
    "3c3acec9ad8543ca81d102f7c9e13f23": {
     "model_module": "@jupyter-widgets/controls",
     "model_module_version": "1.5.0",
     "model_name": "DescriptionStyleModel",
     "state": {
      "_model_module": "@jupyter-widgets/controls",
      "_model_module_version": "1.5.0",
      "_model_name": "DescriptionStyleModel",
      "_view_count": null,
      "_view_module": "@jupyter-widgets/base",
      "_view_module_version": "1.2.0",
      "_view_name": "StyleView",
      "description_width": ""
     }
    },
    "425cb4d9703045809726dc5b9b15dca8": {
     "model_module": "@jupyter-widgets/base",
     "model_module_version": "1.2.0",
     "model_name": "LayoutModel",
     "state": {
      "_model_module": "@jupyter-widgets/base",
      "_model_module_version": "1.2.0",
      "_model_name": "LayoutModel",
      "_view_count": null,
      "_view_module": "@jupyter-widgets/base",
      "_view_module_version": "1.2.0",
      "_view_name": "LayoutView",
      "align_content": null,
      "align_items": null,
      "align_self": null,
      "border": null,
      "bottom": null,
      "display": null,
      "flex": null,
      "flex_flow": null,
      "grid_area": null,
      "grid_auto_columns": null,
      "grid_auto_flow": null,
      "grid_auto_rows": null,
      "grid_column": null,
      "grid_gap": null,
      "grid_row": null,
      "grid_template_areas": null,
      "grid_template_columns": null,
      "grid_template_rows": null,
      "height": null,
      "justify_content": null,
      "justify_items": null,
      "left": null,
      "margin": null,
      "max_height": null,
      "max_width": null,
      "min_height": null,
      "min_width": null,
      "object_fit": null,
      "object_position": null,
      "order": null,
      "overflow": null,
      "overflow_x": null,
      "overflow_y": null,
      "padding": null,
      "right": null,
      "top": null,
      "visibility": null,
      "width": null
     }
    },
    "4691f0b738034129bc9770d151b3eb4b": {
     "model_module": "@jupyter-widgets/controls",
     "model_module_version": "1.5.0",
     "model_name": "ProgressStyleModel",
     "state": {
      "_model_module": "@jupyter-widgets/controls",
      "_model_module_version": "1.5.0",
      "_model_name": "ProgressStyleModel",
      "_view_count": null,
      "_view_module": "@jupyter-widgets/base",
      "_view_module_version": "1.2.0",
      "_view_name": "StyleView",
      "bar_color": null,
      "description_width": ""
     }
    },
    "48689cba6e424a2e937ad4ab05ae64df": {
     "model_module": "@jupyter-widgets/controls",
     "model_module_version": "1.5.0",
     "model_name": "HBoxModel",
     "state": {
      "_dom_classes": [],
      "_model_module": "@jupyter-widgets/controls",
      "_model_module_version": "1.5.0",
      "_model_name": "HBoxModel",
      "_view_count": null,
      "_view_module": "@jupyter-widgets/controls",
      "_view_module_version": "1.5.0",
      "_view_name": "HBoxView",
      "box_style": "",
      "children": [
       "IPY_MODEL_f9ed8342483647db83e2df38520fa715",
       "IPY_MODEL_a5c0c2cdfc444e0da47f05ddec69c6a4",
       "IPY_MODEL_e31d5dd3ba2c42239e384d88d2ab4b42"
      ],
      "layout": "IPY_MODEL_4e9ee41f69724b239d09abc2b0c2adfa"
     }
    },
    "4e5f48a0cac7434c9fd51403e4bf47ea": {
     "model_module": "@jupyter-widgets/controls",
     "model_module_version": "1.5.0",
     "model_name": "ProgressStyleModel",
     "state": {
      "_model_module": "@jupyter-widgets/controls",
      "_model_module_version": "1.5.0",
      "_model_name": "ProgressStyleModel",
      "_view_count": null,
      "_view_module": "@jupyter-widgets/base",
      "_view_module_version": "1.2.0",
      "_view_name": "StyleView",
      "bar_color": null,
      "description_width": ""
     }
    },
    "4e9ee41f69724b239d09abc2b0c2adfa": {
     "model_module": "@jupyter-widgets/base",
     "model_module_version": "1.2.0",
     "model_name": "LayoutModel",
     "state": {
      "_model_module": "@jupyter-widgets/base",
      "_model_module_version": "1.2.0",
      "_model_name": "LayoutModel",
      "_view_count": null,
      "_view_module": "@jupyter-widgets/base",
      "_view_module_version": "1.2.0",
      "_view_name": "LayoutView",
      "align_content": null,
      "align_items": null,
      "align_self": null,
      "border": null,
      "bottom": null,
      "display": null,
      "flex": null,
      "flex_flow": null,
      "grid_area": null,
      "grid_auto_columns": null,
      "grid_auto_flow": null,
      "grid_auto_rows": null,
      "grid_column": null,
      "grid_gap": null,
      "grid_row": null,
      "grid_template_areas": null,
      "grid_template_columns": null,
      "grid_template_rows": null,
      "height": null,
      "justify_content": null,
      "justify_items": null,
      "left": null,
      "margin": null,
      "max_height": null,
      "max_width": null,
      "min_height": null,
      "min_width": null,
      "object_fit": null,
      "object_position": null,
      "order": null,
      "overflow": null,
      "overflow_x": null,
      "overflow_y": null,
      "padding": null,
      "right": null,
      "top": null,
      "visibility": "hidden",
      "width": null
     }
    },
    "5df94e2de08145daa19a0377c26b50f0": {
     "model_module": "@jupyter-widgets/controls",
     "model_module_version": "1.5.0",
     "model_name": "DescriptionStyleModel",
     "state": {
      "_model_module": "@jupyter-widgets/controls",
      "_model_module_version": "1.5.0",
      "_model_name": "DescriptionStyleModel",
      "_view_count": null,
      "_view_module": "@jupyter-widgets/base",
      "_view_module_version": "1.2.0",
      "_view_name": "StyleView",
      "description_width": ""
     }
    },
    "75b1c5717be7445cba14e9029bddfddc": {
     "model_module": "@jupyter-widgets/controls",
     "model_module_version": "1.5.0",
     "model_name": "DescriptionStyleModel",
     "state": {
      "_model_module": "@jupyter-widgets/controls",
      "_model_module_version": "1.5.0",
      "_model_name": "DescriptionStyleModel",
      "_view_count": null,
      "_view_module": "@jupyter-widgets/base",
      "_view_module_version": "1.2.0",
      "_view_name": "StyleView",
      "description_width": ""
     }
    },
    "7833a8bb0542433381ad87755d87e1b1": {
     "model_module": "@jupyter-widgets/controls",
     "model_module_version": "1.5.0",
     "model_name": "DescriptionStyleModel",
     "state": {
      "_model_module": "@jupyter-widgets/controls",
      "_model_module_version": "1.5.0",
      "_model_name": "DescriptionStyleModel",
      "_view_count": null,
      "_view_module": "@jupyter-widgets/base",
      "_view_module_version": "1.2.0",
      "_view_name": "StyleView",
      "description_width": ""
     }
    },
    "8a458e9fd1dc4265bb44453c79752e95": {
     "model_module": "@jupyter-widgets/base",
     "model_module_version": "1.2.0",
     "model_name": "LayoutModel",
     "state": {
      "_model_module": "@jupyter-widgets/base",
      "_model_module_version": "1.2.0",
      "_model_name": "LayoutModel",
      "_view_count": null,
      "_view_module": "@jupyter-widgets/base",
      "_view_module_version": "1.2.0",
      "_view_name": "LayoutView",
      "align_content": null,
      "align_items": null,
      "align_self": null,
      "border": null,
      "bottom": null,
      "display": null,
      "flex": null,
      "flex_flow": null,
      "grid_area": null,
      "grid_auto_columns": null,
      "grid_auto_flow": null,
      "grid_auto_rows": null,
      "grid_column": null,
      "grid_gap": null,
      "grid_row": null,
      "grid_template_areas": null,
      "grid_template_columns": null,
      "grid_template_rows": null,
      "height": null,
      "justify_content": null,
      "justify_items": null,
      "left": null,
      "margin": null,
      "max_height": null,
      "max_width": null,
      "min_height": null,
      "min_width": null,
      "object_fit": null,
      "object_position": null,
      "order": null,
      "overflow": null,
      "overflow_x": null,
      "overflow_y": null,
      "padding": null,
      "right": null,
      "top": null,
      "visibility": null,
      "width": null
     }
    },
    "8f32fbbf59ae4bbd90e15afdedbb93d8": {
     "model_module": "@jupyter-widgets/base",
     "model_module_version": "1.2.0",
     "model_name": "LayoutModel",
     "state": {
      "_model_module": "@jupyter-widgets/base",
      "_model_module_version": "1.2.0",
      "_model_name": "LayoutModel",
      "_view_count": null,
      "_view_module": "@jupyter-widgets/base",
      "_view_module_version": "1.2.0",
      "_view_name": "LayoutView",
      "align_content": null,
      "align_items": null,
      "align_self": null,
      "border": null,
      "bottom": null,
      "display": null,
      "flex": null,
      "flex_flow": null,
      "grid_area": null,
      "grid_auto_columns": null,
      "grid_auto_flow": null,
      "grid_auto_rows": null,
      "grid_column": null,
      "grid_gap": null,
      "grid_row": null,
      "grid_template_areas": null,
      "grid_template_columns": null,
      "grid_template_rows": null,
      "height": null,
      "justify_content": null,
      "justify_items": null,
      "left": null,
      "margin": null,
      "max_height": null,
      "max_width": null,
      "min_height": null,
      "min_width": null,
      "object_fit": null,
      "object_position": null,
      "order": null,
      "overflow": null,
      "overflow_x": null,
      "overflow_y": null,
      "padding": null,
      "right": null,
      "top": null,
      "visibility": null,
      "width": null
     }
    },
    "96c078111ca3406aa4c94e176e181baf": {
     "model_module": "@jupyter-widgets/base",
     "model_module_version": "1.2.0",
     "model_name": "LayoutModel",
     "state": {
      "_model_module": "@jupyter-widgets/base",
      "_model_module_version": "1.2.0",
      "_model_name": "LayoutModel",
      "_view_count": null,
      "_view_module": "@jupyter-widgets/base",
      "_view_module_version": "1.2.0",
      "_view_name": "LayoutView",
      "align_content": null,
      "align_items": null,
      "align_self": null,
      "border": null,
      "bottom": null,
      "display": null,
      "flex": null,
      "flex_flow": null,
      "grid_area": null,
      "grid_auto_columns": null,
      "grid_auto_flow": null,
      "grid_auto_rows": null,
      "grid_column": null,
      "grid_gap": null,
      "grid_row": null,
      "grid_template_areas": null,
      "grid_template_columns": null,
      "grid_template_rows": null,
      "height": null,
      "justify_content": null,
      "justify_items": null,
      "left": null,
      "margin": null,
      "max_height": null,
      "max_width": null,
      "min_height": null,
      "min_width": null,
      "object_fit": null,
      "object_position": null,
      "order": null,
      "overflow": null,
      "overflow_x": null,
      "overflow_y": null,
      "padding": null,
      "right": null,
      "top": null,
      "visibility": null,
      "width": null
     }
    },
    "a5c0c2cdfc444e0da47f05ddec69c6a4": {
     "model_module": "@jupyter-widgets/controls",
     "model_module_version": "1.5.0",
     "model_name": "FloatProgressModel",
     "state": {
      "_dom_classes": [],
      "_model_module": "@jupyter-widgets/controls",
      "_model_module_version": "1.5.0",
      "_model_name": "FloatProgressModel",
      "_view_count": null,
      "_view_module": "@jupyter-widgets/controls",
      "_view_module_version": "1.5.0",
      "_view_name": "ProgressView",
      "bar_style": "",
      "description": "",
      "description_tooltip": null,
      "layout": "IPY_MODEL_d08e2aad6cbf4b84b8c33a1ebea13463",
      "max": 4,
      "min": 0,
      "orientation": "horizontal",
      "style": "IPY_MODEL_4691f0b738034129bc9770d151b3eb4b",
      "value": 4
     }
    },
    "d08e2aad6cbf4b84b8c33a1ebea13463": {
     "model_module": "@jupyter-widgets/base",
     "model_module_version": "1.2.0",
     "model_name": "LayoutModel",
     "state": {
      "_model_module": "@jupyter-widgets/base",
      "_model_module_version": "1.2.0",
      "_model_name": "LayoutModel",
      "_view_count": null,
      "_view_module": "@jupyter-widgets/base",
      "_view_module_version": "1.2.0",
      "_view_name": "LayoutView",
      "align_content": null,
      "align_items": null,
      "align_self": null,
      "border": null,
      "bottom": null,
      "display": null,
      "flex": null,
      "flex_flow": null,
      "grid_area": null,
      "grid_auto_columns": null,
      "grid_auto_flow": null,
      "grid_auto_rows": null,
      "grid_column": null,
      "grid_gap": null,
      "grid_row": null,
      "grid_template_areas": null,
      "grid_template_columns": null,
      "grid_template_rows": null,
      "height": null,
      "justify_content": null,
      "justify_items": null,
      "left": null,
      "margin": null,
      "max_height": null,
      "max_width": null,
      "min_height": null,
      "min_width": null,
      "object_fit": null,
      "object_position": null,
      "order": null,
      "overflow": null,
      "overflow_x": null,
      "overflow_y": null,
      "padding": null,
      "right": null,
      "top": null,
      "visibility": null,
      "width": null
     }
    },
    "d451da093ef54e7e8c8876e5faa68d91": {
     "model_module": "@jupyter-widgets/controls",
     "model_module_version": "1.5.0",
     "model_name": "HTMLModel",
     "state": {
      "_dom_classes": [],
      "_model_module": "@jupyter-widgets/controls",
      "_model_module_version": "1.5.0",
      "_model_name": "HTMLModel",
      "_view_count": null,
      "_view_module": "@jupyter-widgets/controls",
      "_view_module_version": "1.5.0",
      "_view_name": "HTMLView",
      "description": "",
      "description_tooltip": null,
      "layout": "IPY_MODEL_8a458e9fd1dc4265bb44453c79752e95",
      "placeholder": "​",
      "style": "IPY_MODEL_7833a8bb0542433381ad87755d87e1b1",
      "value": " 65/65 [00:30&lt;00:00,  2.43it/s]"
     }
    },
    "e31d5dd3ba2c42239e384d88d2ab4b42": {
     "model_module": "@jupyter-widgets/controls",
     "model_module_version": "1.5.0",
     "model_name": "HTMLModel",
     "state": {
      "_dom_classes": [],
      "_model_module": "@jupyter-widgets/controls",
      "_model_module_version": "1.5.0",
      "_model_name": "HTMLModel",
      "_view_count": null,
      "_view_module": "@jupyter-widgets/controls",
      "_view_module_version": "1.5.0",
      "_view_name": "HTMLView",
      "description": "",
      "description_tooltip": null,
      "layout": "IPY_MODEL_96c078111ca3406aa4c94e176e181baf",
      "placeholder": "​",
      "style": "IPY_MODEL_75b1c5717be7445cba14e9029bddfddc",
      "value": " 0/4 [00:00&lt;?, ?it/s]"
     }
    },
    "f9ed8342483647db83e2df38520fa715": {
     "model_module": "@jupyter-widgets/controls",
     "model_module_version": "1.5.0",
     "model_name": "HTMLModel",
     "state": {
      "_dom_classes": [],
      "_model_module": "@jupyter-widgets/controls",
      "_model_module_version": "1.5.0",
      "_model_name": "HTMLModel",
      "_view_count": null,
      "_view_module": "@jupyter-widgets/controls",
      "_view_module_version": "1.5.0",
      "_view_name": "HTMLView",
      "description": "",
      "description_tooltip": null,
      "layout": "IPY_MODEL_425cb4d9703045809726dc5b9b15dca8",
      "placeholder": "​",
      "style": "IPY_MODEL_5df94e2de08145daa19a0377c26b50f0",
      "value": "Processing:   0%"
     }
    }
   }
  }
 },
 "nbformat": 4,
 "nbformat_minor": 5
}
